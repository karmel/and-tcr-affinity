{
 "metadata": {
  "name": "",
  "signature": "sha256:aa00fe32ed2f038f25507ce5967f664baa4ab1afabd431b3979b44caca345d41"
 },
 "nbformat": 3,
 "nbformat_minor": 0,
 "worksheets": []
}