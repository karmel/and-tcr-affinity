{
 "metadata": {
  "name": "",
  "signature": "sha256:ef2e8ff0d9a39dd9537d1024b0fd29b63a6af0cb0f08d5e0a8cf56222159f5c5"
 },
 "nbformat": 3,
 "nbformat_minor": 0,
 "worksheets": [
  {
   "cells": [
    {
     "cell_type": "code",
     "collapsed": false,
     "input": [
      "'''\n",
      "Use mean values of two replicates.\n",
      "'''"
     ],
     "language": "python",
     "metadata": {},
     "outputs": [
      {
       "metadata": {},
       "output_type": "pyout",
       "prompt_number": 1,
       "text": [
        "'\\nUse mean values of two replicates.\\n'"
       ]
      }
     ],
     "prompt_number": 1
    },
    {
     "cell_type": "code",
     "collapsed": false,
     "input": [
      "import pandas as pd"
     ],
     "language": "python",
     "metadata": {},
     "outputs": [],
     "prompt_number": 19
    },
    {
     "cell_type": "code",
     "collapsed": false,
     "input": [
      "filename = '../data/reps1-2/rpkm.txt'\n",
      "data = pd.io.parsers.read_csv(filename, \n",
      "                                    sep='\\t', \n",
      "                                    header=0)\n",
      "# Clean up column names for easier parsing.\n",
      "new_index = []\n",
      "for col in data.columns:\n",
      "    cleaned = col.replace('-KAA-15-01-22 reads','-1').replace(' FPKM','')\n",
      "    cleaned = cleaned.replace('-KAA-15-02-17 reads','-2').replace('../../rep1/tag-dirs/','')\n",
      "    cleaned = cleaned.replace('AND-CD4TCell-RNA-','').replace('../../rep2/tag-dirs/','')\n",
      "    cleaned = cleaned.replace('0-5uM-MEKi-2','MEKi')\n",
      "    new_index.append(cleaned)\n",
      "new_index[0] = 'id'\n",
      "data.columns = new_index\n",
      "data.index = data['id']\n",
      "print(data.shape)\n",
      "cols = ['No-Peptide-24h',\n",
      "        '10uM-K99A-24h', \n",
      "        '100uM-K99A-24h', \n",
      "        '0-1uM-PCC-24h', \n",
      "        '10uM-PCC-24h', \n",
      "        ]\n",
      "colnames = [s + '-1' for s in cols] + [s + '-2' for s in cols]\n",
      "subdata = data[colnames]\n",
      "subdata.head()"
     ],
     "language": "python",
     "metadata": {},
     "outputs": [
      {
       "output_type": "stream",
       "stream": "stdout",
       "text": [
        "(24063, 23)\n"
       ]
      },
      {
       "html": [
        "<div style=\"max-height:1000px;max-width:1500px;overflow:auto;\">\n",
        "<table border=\"1\" class=\"dataframe\">\n",
        "  <thead>\n",
        "    <tr style=\"text-align: right;\">\n",
        "      <th></th>\n",
        "      <th>No-Peptide-24h-1</th>\n",
        "      <th>10uM-K99A-24h-1</th>\n",
        "      <th>100uM-K99A-24h-1</th>\n",
        "      <th>0-1uM-PCC-24h-1</th>\n",
        "      <th>10uM-PCC-24h-1</th>\n",
        "      <th>No-Peptide-24h-2</th>\n",
        "      <th>10uM-K99A-24h-2</th>\n",
        "      <th>100uM-K99A-24h-2</th>\n",
        "      <th>0-1uM-PCC-24h-2</th>\n",
        "      <th>10uM-PCC-24h-2</th>\n",
        "    </tr>\n",
        "    <tr>\n",
        "      <th>id</th>\n",
        "      <th></th>\n",
        "      <th></th>\n",
        "      <th></th>\n",
        "      <th></th>\n",
        "      <th></th>\n",
        "      <th></th>\n",
        "      <th></th>\n",
        "      <th></th>\n",
        "      <th></th>\n",
        "      <th></th>\n",
        "    </tr>\n",
        "  </thead>\n",
        "  <tbody>\n",
        "    <tr>\n",
        "      <th>NM_013478</th>\n",
        "      <td>  0.000</td>\n",
        "      <td>  0.000</td>\n",
        "      <td>  0.000</td>\n",
        "      <td>  0.000</td>\n",
        "      <td>  0.000</td>\n",
        "      <td>  0.000</td>\n",
        "      <td>  0.000</td>\n",
        "      <td>  0.000</td>\n",
        "      <td>  0.000</td>\n",
        "      <td>  0.000</td>\n",
        "    </tr>\n",
        "    <tr>\n",
        "      <th>NM_172784</th>\n",
        "      <td>  0.366</td>\n",
        "      <td>  1.062</td>\n",
        "      <td>  1.688</td>\n",
        "      <td>  1.027</td>\n",
        "      <td>  0.917</td>\n",
        "      <td>  0.263</td>\n",
        "      <td>  0.644</td>\n",
        "      <td>  0.993</td>\n",
        "      <td>  1.152</td>\n",
        "      <td>  0.925</td>\n",
        "    </tr>\n",
        "    <tr>\n",
        "      <th>NM_007732</th>\n",
        "      <td>  0.000</td>\n",
        "      <td>  0.008</td>\n",
        "      <td>  0.000</td>\n",
        "      <td>  0.000</td>\n",
        "      <td>  0.000</td>\n",
        "      <td>  0.083</td>\n",
        "      <td>  0.000</td>\n",
        "      <td>  0.019</td>\n",
        "      <td>  0.018</td>\n",
        "      <td>  0.021</td>\n",
        "    </tr>\n",
        "    <tr>\n",
        "      <th>NM_016772</th>\n",
        "      <td> 48.026</td>\n",
        "      <td> 39.810</td>\n",
        "      <td> 34.892</td>\n",
        "      <td> 23.820</td>\n",
        "      <td> 30.162</td>\n",
        "      <td> 37.441</td>\n",
        "      <td> 33.507</td>\n",
        "      <td> 24.548</td>\n",
        "      <td> 27.646</td>\n",
        "      <td> 27.479</td>\n",
        "    </tr>\n",
        "    <tr>\n",
        "      <th>NR_077063</th>\n",
        "      <td>  0.020</td>\n",
        "      <td>  0.016</td>\n",
        "      <td>  0.000</td>\n",
        "      <td>  0.000</td>\n",
        "      <td>  0.000</td>\n",
        "      <td>  0.000</td>\n",
        "      <td>  0.078</td>\n",
        "      <td>  0.000</td>\n",
        "      <td>  0.000</td>\n",
        "      <td>  0.000</td>\n",
        "    </tr>\n",
        "  </tbody>\n",
        "</table>\n",
        "</div>"
       ],
       "metadata": {},
       "output_type": "pyout",
       "prompt_number": 33,
       "text": [
        "           No-Peptide-24h-1  10uM-K99A-24h-1  100uM-K99A-24h-1  \\\n",
        "id                                                               \n",
        "NM_013478             0.000            0.000             0.000   \n",
        "NM_172784             0.366            1.062             1.688   \n",
        "NM_007732             0.000            0.008             0.000   \n",
        "NM_016772            48.026           39.810            34.892   \n",
        "NR_077063             0.020            0.016             0.000   \n",
        "\n",
        "           0-1uM-PCC-24h-1  10uM-PCC-24h-1  No-Peptide-24h-2  10uM-K99A-24h-2  \\\n",
        "id                                                                              \n",
        "NM_013478            0.000           0.000             0.000            0.000   \n",
        "NM_172784            1.027           0.917             0.263            0.644   \n",
        "NM_007732            0.000           0.000             0.083            0.000   \n",
        "NM_016772           23.820          30.162            37.441           33.507   \n",
        "NR_077063            0.000           0.000             0.000            0.078   \n",
        "\n",
        "           100uM-K99A-24h-2  0-1uM-PCC-24h-2  10uM-PCC-24h-2  \n",
        "id                                                            \n",
        "NM_013478             0.000            0.000           0.000  \n",
        "NM_172784             0.993            1.152           0.925  \n",
        "NM_007732             0.019            0.018           0.021  \n",
        "NM_016772            24.548           27.646          27.479  \n",
        "NR_077063             0.000            0.000           0.000  "
       ]
      }
     ],
     "prompt_number": 33
    },
    {
     "cell_type": "code",
     "collapsed": false,
     "input": [
      "for col in cols:\n",
      "    replicates = subdata.filter(like=col)\n",
      "    data[col] = replicates.mean(axis=1)\n",
      "    data[col + '-std'] = replicates.std(axis=1)"
     ],
     "language": "python",
     "metadata": {},
     "outputs": [],
     "prompt_number": 34
    },
    {
     "cell_type": "code",
     "collapsed": false,
     "input": [
      "data.to_csv('../data/mean/rpkm_all.txt',\n",
      "    sep='\\t', header=True, index=False)"
     ],
     "language": "python",
     "metadata": {},
     "outputs": [],
     "prompt_number": 35
    },
    {
     "cell_type": "code",
     "collapsed": false,
     "input": [
      "# Clean out snoRNA, miRNA, etc.\n",
      "coding = data[data['id'].str[:3] != 'NR_']\n",
      "coding.to_csv('../data/mean/rpkm.txt',\n",
      "    sep='\\t', header=True, index=False)"
     ],
     "language": "python",
     "metadata": {},
     "outputs": []
    }
   ],
   "metadata": {}
  }
 ]
}