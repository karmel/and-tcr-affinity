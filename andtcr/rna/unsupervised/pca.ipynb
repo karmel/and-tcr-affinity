{
 "metadata": {
  "name": "",
  "signature": "sha256:5bc891eff6533bb45e2275172e897841a78ace648da817b12a2af8fda16870f8"
 },
 "nbformat": 3,
 "nbformat_minor": 0,
 "worksheets": [
  {
   "cells": [
    {
     "cell_type": "markdown",
     "metadata": {},
     "source": [
      "'''\n",
      "Use PCA to evaluate the axes of variation.\n",
      "'''"
     ]
    },
    {
     "cell_type": "code",
     "collapsed": false,
     "input": [
      "import pandas as pd\n",
      "import seaborn as sns\n",
      "import matplotlib.pyplot as plt\n",
      "from sklearn.decomposition import PCA"
     ],
     "language": "python",
     "metadata": {},
     "outputs": [],
     "prompt_number": 1
    },
    {
     "cell_type": "code",
     "collapsed": false,
     "input": [
      "sns.set_context('poster')"
     ],
     "language": "python",
     "metadata": {},
     "outputs": [],
     "prompt_number": 2
    },
    {
     "cell_type": "code",
     "collapsed": false,
     "input": [
      "filename = '../data/rep1/rpkm.txt'\n",
      "data = pd.io.parsers.read_csv(filename, \n",
      "                                    sep='\\t', \n",
      "                                    header=0)\n",
      "# Clean up column names for easier parsing.\n",
      "new_index = []\n",
      "for col in data.columns:\n",
      "    cleaned = col.replace('-KAA-15-01-22 reads','').replace(' FPKM','')\n",
      "    cleaned = cleaned.replace('AND-CD4TCell-RNA-','').replace('../tag-dirs/','')\n",
      "    new_index.append(cleaned)\n",
      "new_index[0] = 'id'\n",
      "data.columns = new_index\n",
      "data.index = data['id']\n",
      "print(data.shape)\n",
      "cols = ['No-Peptide-24h',\n",
      "        '10uM-K99A-24h', \n",
      "        '100uM-K99A-24h', \n",
      "        '0-1uM-PCC-24h', \n",
      "        '10uM-PCC-24h', \n",
      "        ]\n",
      "subdata = data[cols]\n",
      "subdata.head()"
     ],
     "language": "python",
     "metadata": {},
     "outputs": [
      {
       "output_type": "stream",
       "stream": "stdout",
       "text": [
        "(24063, 13)\n"
       ]
      },
      {
       "html": [
        "<div style=\"max-height:1000px;max-width:1500px;overflow:auto;\">\n",
        "<table border=\"1\" class=\"dataframe\">\n",
        "  <thead>\n",
        "    <tr style=\"text-align: right;\">\n",
        "      <th></th>\n",
        "      <th>No-Peptide-24h</th>\n",
        "      <th>10uM-K99A-24h</th>\n",
        "      <th>100uM-K99A-24h</th>\n",
        "      <th>0-1uM-PCC-24h</th>\n",
        "      <th>10uM-PCC-24h</th>\n",
        "    </tr>\n",
        "    <tr>\n",
        "      <th>id</th>\n",
        "      <th></th>\n",
        "      <th></th>\n",
        "      <th></th>\n",
        "      <th></th>\n",
        "      <th></th>\n",
        "    </tr>\n",
        "  </thead>\n",
        "  <tbody>\n",
        "    <tr>\n",
        "      <th>NM_011280</th>\n",
        "      <td> 0.000</td>\n",
        "      <td> 0.018</td>\n",
        "      <td> 0.000</td>\n",
        "      <td> 0.000</td>\n",
        "      <td> 0.000</td>\n",
        "    </tr>\n",
        "    <tr>\n",
        "      <th>NM_022986</th>\n",
        "      <td> 0.877</td>\n",
        "      <td> 1.582</td>\n",
        "      <td> 1.254</td>\n",
        "      <td> 2.132</td>\n",
        "      <td> 2.891</td>\n",
        "    </tr>\n",
        "    <tr>\n",
        "      <th>NM_028370</th>\n",
        "      <td> 8.082</td>\n",
        "      <td> 5.042</td>\n",
        "      <td> 3.242</td>\n",
        "      <td> 3.480</td>\n",
        "      <td> 3.333</td>\n",
        "    </tr>\n",
        "    <tr>\n",
        "      <th>NM_001011865</th>\n",
        "      <td> 0.000</td>\n",
        "      <td> 0.000</td>\n",
        "      <td> 0.000</td>\n",
        "      <td> 0.000</td>\n",
        "      <td> 0.000</td>\n",
        "    </tr>\n",
        "    <tr>\n",
        "      <th>NR_029818</th>\n",
        "      <td> 0.000</td>\n",
        "      <td> 0.000</td>\n",
        "      <td> 0.000</td>\n",
        "      <td> 0.000</td>\n",
        "      <td> 0.000</td>\n",
        "    </tr>\n",
        "  </tbody>\n",
        "</table>\n",
        "</div>"
       ],
       "metadata": {},
       "output_type": "pyout",
       "prompt_number": 23,
       "text": [
        "              No-Peptide-24h  10uM-K99A-24h  100uM-K99A-24h  0-1uM-PCC-24h  \\\n",
        "id                                                                           \n",
        "NM_011280              0.000          0.018           0.000          0.000   \n",
        "NM_022986              0.877          1.582           1.254          2.132   \n",
        "NM_028370              8.082          5.042           3.242          3.480   \n",
        "NM_001011865           0.000          0.000           0.000          0.000   \n",
        "NR_029818              0.000          0.000           0.000          0.000   \n",
        "\n",
        "              10uM-PCC-24h  \n",
        "id                          \n",
        "NM_011280            0.000  \n",
        "NM_022986            2.891  \n",
        "NM_028370            3.333  \n",
        "NM_001011865         0.000  \n",
        "NR_029818            0.000  "
       ]
      }
     ],
     "prompt_number": 23
    },
    {
     "cell_type": "code",
     "collapsed": false,
     "input": [
      "# Filter out genes that aren't changing.\n",
      "def check_changing(row):\n",
      "    if row.max() - row.min() < row.min():\n",
      "        return False\n",
      "    if row.max() < 10:\n",
      "        return False\n",
      "    return True\n",
      "filtered = subdata[subdata.apply(check_changing, axis=1)]\n",
      "print(filtered.shape)\n",
      "filtered.head()"
     ],
     "language": "python",
     "metadata": {},
     "outputs": [
      {
       "output_type": "stream",
       "stream": "stdout",
       "text": [
        "(3455, 5)\n"
       ]
      },
      {
       "html": [
        "<div style=\"max-height:1000px;max-width:1500px;overflow:auto;\">\n",
        "<table border=\"1\" class=\"dataframe\">\n",
        "  <thead>\n",
        "    <tr style=\"text-align: right;\">\n",
        "      <th></th>\n",
        "      <th>No-Peptide-24h</th>\n",
        "      <th>10uM-K99A-24h</th>\n",
        "      <th>100uM-K99A-24h</th>\n",
        "      <th>0-1uM-PCC-24h</th>\n",
        "      <th>10uM-PCC-24h</th>\n",
        "    </tr>\n",
        "    <tr>\n",
        "      <th>id</th>\n",
        "      <th></th>\n",
        "      <th></th>\n",
        "      <th></th>\n",
        "      <th></th>\n",
        "      <th></th>\n",
        "    </tr>\n",
        "  </thead>\n",
        "  <tbody>\n",
        "    <tr>\n",
        "      <th>NM_015779</th>\n",
        "      <td> 80.409</td>\n",
        "      <td>  32.074</td>\n",
        "      <td>  15.165</td>\n",
        "      <td>  3.718</td>\n",
        "      <td>  1.068</td>\n",
        "    </tr>\n",
        "    <tr>\n",
        "      <th>NM_025359</th>\n",
        "      <td> 48.460</td>\n",
        "      <td> 146.362</td>\n",
        "      <td> 153.193</td>\n",
        "      <td> 64.645</td>\n",
        "      <td> 63.563</td>\n",
        "    </tr>\n",
        "    <tr>\n",
        "      <th>NM_177603</th>\n",
        "      <td> 27.698</td>\n",
        "      <td>  12.399</td>\n",
        "      <td>   8.387</td>\n",
        "      <td>  9.572</td>\n",
        "      <td>  7.347</td>\n",
        "    </tr>\n",
        "    <tr>\n",
        "      <th>NM_027238</th>\n",
        "      <td>  7.475</td>\n",
        "      <td>  10.709</td>\n",
        "      <td>  12.156</td>\n",
        "      <td> 15.858</td>\n",
        "      <td> 19.425</td>\n",
        "    </tr>\n",
        "    <tr>\n",
        "      <th>NR_105986</th>\n",
        "      <td> 19.767</td>\n",
        "      <td>   1.804</td>\n",
        "      <td>   7.541</td>\n",
        "      <td>  9.244</td>\n",
        "      <td>  7.970</td>\n",
        "    </tr>\n",
        "  </tbody>\n",
        "</table>\n",
        "</div>"
       ],
       "metadata": {},
       "output_type": "pyout",
       "prompt_number": 24,
       "text": [
        "           No-Peptide-24h  10uM-K99A-24h  100uM-K99A-24h  0-1uM-PCC-24h  \\\n",
        "id                                                                        \n",
        "NM_015779          80.409         32.074          15.165          3.718   \n",
        "NM_025359          48.460        146.362         153.193         64.645   \n",
        "NM_177603          27.698         12.399           8.387          9.572   \n",
        "NM_027238           7.475         10.709          12.156         15.858   \n",
        "NR_105986          19.767          1.804           7.541          9.244   \n",
        "\n",
        "           10uM-PCC-24h  \n",
        "id                       \n",
        "NM_015779         1.068  \n",
        "NM_025359        63.563  \n",
        "NM_177603         7.347  \n",
        "NM_027238        19.425  \n",
        "NR_105986         7.970  "
       ]
      }
     ],
     "prompt_number": 24
    },
    {
     "cell_type": "code",
     "collapsed": false,
     "input": [
      "n = 5\n",
      "transpose = filtered.transpose()\n",
      "pca = PCA(n_components=n)\n",
      "X_r = pca.fit(transpose).transform(transpose)\n",
      "print('Explained variance ratio (first {} components): '.format(n)\n",
      "      + str(pca.explained_variance_ratio_))\n",
      "X_r"
     ],
     "language": "python",
     "metadata": {},
     "outputs": [
      {
       "output_type": "stream",
       "stream": "stdout",
       "text": [
        "Explained variance ratio (first 5 components): [  9.78690825e-01   1.60749579e-02   4.02248189e-03   1.21173485e-03\n",
        "   2.48793449e-30]\n"
       ]
      },
      {
       "metadata": {},
       "output_type": "pyout",
       "prompt_number": 25,
       "text": [
        "array([[ -1.09055916e+04,   4.69120649e+02,  -1.84928116e+01,\n",
        "          1.45363211e+01,  -2.99975045e-11],\n",
        "       [  8.47295807e+01,  -1.02187545e+03,   5.21714624e+02,\n",
        "         -5.86398970e+01,   9.36943925e-12],\n",
        "       [  1.43424484e+03,  -7.55409158e+02,  -5.86880086e+02,\n",
        "          1.21809173e+02,   3.89233090e-12],\n",
        "       [  4.11010591e+03,   5.28528846e+02,  -1.32394973e+02,\n",
        "         -3.41910297e+02,   1.31108041e-11],\n",
        "       [  5.27651124e+03,   7.79635111e+02,   2.16053246e+02,\n",
        "          2.64204700e+02,   4.23275304e-12]])"
       ]
      }
     ],
     "prompt_number": 25
    },
    {
     "cell_type": "code",
     "collapsed": false,
     "input": [
      "plt.figure()\n",
      "plt.scatter(X_r[:, 0].tolist(), X_r[:, 1].tolist(), s=100)\n",
      "plt.title('PCA: RNA-Seq by Condition')\n",
      "plt.xlabel('PC1 (98% of variance)')\n",
      "plt.ylabel('PC2 (1.5% of variance)')\n",
      "\n",
      "margin = 50\n",
      "for i, txt in enumerate(transpose.index):\n",
      "    if i % 2: dir = -1\n",
      "    plt.annotate(txt, (X_r[i,0] + margin,X_r[i,1] + margin),\n",
      "                 size=13)\n",
      "\n",
      "plt.savefig('figures/PCA_RNA-Seq_by_Condition.png',\n",
      "            bbox_inches='tight')"
     ],
     "language": "python",
     "metadata": {},
     "outputs": [
      {
       "metadata": {},
       "output_type": "display_data",
       "png": "[encoded data removed]",
       "text": [
        "<matplotlib.figure.Figure at 0x10bf8b7b8>"
       ]
      }
     ],
     "prompt_number": 26
    },
    {
     "cell_type": "code",
     "collapsed": false,
     "input": [
      "# We want to get the top and bottom features that make up each component.\n",
      "components = pd.DataFrame(pca.components_)\n",
      "for x in range(0,2):\n",
      "    pc = components.loc[x]\n",
      "    pc.sort()\n",
      "    num_elem = len(pc)\n",
      "    bottom = pc.index[:num_elem//10]\n",
      "    top = pc.index[9*num_elem//10:]\n",
      "    \n",
      "    bottom_ids = filtered.index[bottom]\n",
      "    top_ids = filtered.index[top]\n",
      "    data.loc[bottom_ids].to_csv('output/clusters/pca_pc{}_bottom_rna_and.txt'.format(x + 1), \n",
      "                        sep='\\t', header=True, index=False)\n",
      "    data.loc[top_ids].to_csv('output/clusters/pca_pc{}_top_rna_and.txt'.format(x + 1), \n",
      "                        sep='\\t', header=True, index=False)"
     ],
     "language": "python",
     "metadata": {},
     "outputs": [],
     "prompt_number": 28
    },
    {
     "cell_type": "code",
     "collapsed": false,
     "input": [],
     "language": "python",
     "metadata": {},
     "outputs": []
    }
   ],
   "metadata": {}
  }
 ]
}