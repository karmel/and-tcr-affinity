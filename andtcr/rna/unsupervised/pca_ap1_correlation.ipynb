{
 "metadata": {
  "name": "",
  "signature": "sha256:0ec786ee563ba5415fc47c74b7a58b5895d1e16b94b498673ed2358ecafff213"
 },
 "nbformat": 3,
 "nbformat_minor": 0,
 "worksheets": [
  {
   "cells": [
    {
     "cell_type": "code",
     "collapsed": false,
     "input": [
      "'''\n",
      "Do the PCs defined in PCA correlated with AP-1 presence?\n",
      "'''"
     ],
     "language": "python",
     "metadata": {},
     "outputs": [
      {
       "metadata": {},
       "output_type": "pyout",
       "prompt_number": 5,
       "text": [
        "'\\nDo the PCs defined in PCA correlated with AP-1 presence?\\n'"
       ]
      }
     ],
     "prompt_number": 5
    },
    {
     "cell_type": "code",
     "collapsed": false,
     "input": [
      "import pandas as pd\n",
      "import seaborn as sns\n",
      "import matplotlib.pyplot as plt"
     ],
     "language": "python",
     "metadata": {},
     "outputs": [],
     "prompt_number": 6
    },
    {
     "cell_type": "code",
     "collapsed": false,
     "input": [
      "sns.set_context('poster')"
     ],
     "language": "python",
     "metadata": {},
     "outputs": [],
     "prompt_number": 57
    },
    {
     "cell_type": "code",
     "collapsed": false,
     "input": [
      "filename = 'output/clusters/pca_genes_rna_and.txt'\n",
      "pca = pd.io.parsers.read_csv(filename, \n",
      "                             sep='\\t', \n",
      "                             header=0, index_col=0)\n",
      "pca.head()"
     ],
     "language": "python",
     "metadata": {},
     "outputs": [
      {
       "html": [
        "<div style=\"max-height:1000px;max-width:1500px;overflow:auto;\">\n",
        "<table border=\"1\" class=\"dataframe\">\n",
        "  <thead>\n",
        "    <tr style=\"text-align: right;\">\n",
        "      <th></th>\n",
        "      <th>chr</th>\n",
        "      <th>start</th>\n",
        "      <th>end</th>\n",
        "      <th>strand</th>\n",
        "      <th>Length</th>\n",
        "      <th>Copies</th>\n",
        "      <th>Annotation/Divergence</th>\n",
        "      <th>0-1uM-PCC-24h</th>\n",
        "      <th>100uM-K99A-24h</th>\n",
        "      <th>10uM-K99A-24h</th>\n",
        "      <th>10uM-PCC-24h</th>\n",
        "      <th>No-Peptide-24h</th>\n",
        "      <th>gene_name</th>\n",
        "      <th>pc1</th>\n",
        "      <th>pc2</th>\n",
        "    </tr>\n",
        "    <tr>\n",
        "      <th>id</th>\n",
        "      <th></th>\n",
        "      <th></th>\n",
        "      <th></th>\n",
        "      <th></th>\n",
        "      <th></th>\n",
        "      <th></th>\n",
        "      <th></th>\n",
        "      <th></th>\n",
        "      <th></th>\n",
        "      <th></th>\n",
        "      <th></th>\n",
        "      <th></th>\n",
        "      <th></th>\n",
        "      <th></th>\n",
        "      <th></th>\n",
        "    </tr>\n",
        "  </thead>\n",
        "  <tbody>\n",
        "    <tr>\n",
        "      <th>NM_015779</th>\n",
        "      <td> chr10</td>\n",
        "      <td>  79886312</td>\n",
        "      <td>  79888216</td>\n",
        "      <td> +</td>\n",
        "      <td>  913</td>\n",
        "      <td> 1</td>\n",
        "      <td> Elane|Ela2|F430011M15Rik|NE|-|10 C1|10 39.72 c...</td>\n",
        "      <td>  3.718</td>\n",
        "      <td>  15.165</td>\n",
        "      <td>  32.074</td>\n",
        "      <td>  1.068</td>\n",
        "      <td> 80.409</td>\n",
        "      <td>   Elane</td>\n",
        "      <td>-0.005017</td>\n",
        "      <td>-0.001364</td>\n",
        "    </tr>\n",
        "    <tr>\n",
        "      <th>NM_025359</th>\n",
        "      <td> chr12</td>\n",
        "      <td>  36014555</td>\n",
        "      <td>  36042478</td>\n",
        "      <td> -</td>\n",
        "      <td> 1915</td>\n",
        "      <td> 1</td>\n",
        "      <td> Tspan13|1100001I23Rik|NET-6|Tm4sf13|RP23-282B1...</td>\n",
        "      <td> 64.645</td>\n",
        "      <td> 153.193</td>\n",
        "      <td> 146.362</td>\n",
        "      <td> 63.563</td>\n",
        "      <td> 48.460</td>\n",
        "      <td> Tspan13</td>\n",
        "      <td> 0.001839</td>\n",
        "      <td>-0.058348</td>\n",
        "    </tr>\n",
        "    <tr>\n",
        "      <th>NM_177603</th>\n",
        "      <td> chr19</td>\n",
        "      <td>  41845976</td>\n",
        "      <td>  41848132</td>\n",
        "      <td> -</td>\n",
        "      <td> 2154</td>\n",
        "      <td> 1</td>\n",
        "      <td>        Frat2|-|-|19 C3|19 35.33 cM|protein-coding</td>\n",
        "      <td>  9.572</td>\n",
        "      <td>   8.387</td>\n",
        "      <td>  12.399</td>\n",
        "      <td>  7.347</td>\n",
        "      <td> 27.698</td>\n",
        "      <td>   Frat2</td>\n",
        "      <td>-0.001272</td>\n",
        "      <td> 0.001754</td>\n",
        "    </tr>\n",
        "    <tr>\n",
        "      <th>NM_027238</th>\n",
        "      <td>  chr4</td>\n",
        "      <td>  83220301</td>\n",
        "      <td>  83324189</td>\n",
        "      <td> -</td>\n",
        "      <td> 8742</td>\n",
        "      <td> 1</td>\n",
        "      <td> Ttc39b|1810054D07Rik|9130422G05Rik|AI450603|AV...</td>\n",
        "      <td> 15.858</td>\n",
        "      <td>  12.156</td>\n",
        "      <td>  10.709</td>\n",
        "      <td> 19.425</td>\n",
        "      <td>  7.475</td>\n",
        "      <td>  Ttc39b</td>\n",
        "      <td> 0.000631</td>\n",
        "      <td> 0.002537</td>\n",
        "    </tr>\n",
        "    <tr>\n",
        "      <th>NR_105986</th>\n",
        "      <td>  chr4</td>\n",
        "      <td> 138316132</td>\n",
        "      <td> 138316200</td>\n",
        "      <td> -</td>\n",
        "      <td>   68</td>\n",
        "      <td> 1</td>\n",
        "      <td>                    Mir7019|mmu-mir-7019|-|-|ncRNA</td>\n",
        "      <td>  9.244</td>\n",
        "      <td>   7.541</td>\n",
        "      <td>   1.804</td>\n",
        "      <td>  7.970</td>\n",
        "      <td> 19.767</td>\n",
        "      <td> Mir7019</td>\n",
        "      <td>-0.000752</td>\n",
        "      <td> 0.004714</td>\n",
        "    </tr>\n",
        "  </tbody>\n",
        "</table>\n",
        "</div>"
       ],
       "metadata": {},
       "output_type": "pyout",
       "prompt_number": 40,
       "text": [
        "             chr      start        end strand  Length  Copies  \\\n",
        "id                                                              \n",
        "NM_015779  chr10   79886312   79888216      +     913       1   \n",
        "NM_025359  chr12   36014555   36042478      -    1915       1   \n",
        "NM_177603  chr19   41845976   41848132      -    2154       1   \n",
        "NM_027238   chr4   83220301   83324189      -    8742       1   \n",
        "NR_105986   chr4  138316132  138316200      -      68       1   \n",
        "\n",
        "                                       Annotation/Divergence  0-1uM-PCC-24h  \\\n",
        "id                                                                            \n",
        "NM_015779  Elane|Ela2|F430011M15Rik|NE|-|10 C1|10 39.72 c...          3.718   \n",
        "NM_025359  Tspan13|1100001I23Rik|NET-6|Tm4sf13|RP23-282B1...         64.645   \n",
        "NM_177603         Frat2|-|-|19 C3|19 35.33 cM|protein-coding          9.572   \n",
        "NM_027238  Ttc39b|1810054D07Rik|9130422G05Rik|AI450603|AV...         15.858   \n",
        "NR_105986                     Mir7019|mmu-mir-7019|-|-|ncRNA          9.244   \n",
        "\n",
        "           100uM-K99A-24h  10uM-K99A-24h  10uM-PCC-24h  No-Peptide-24h  \\\n",
        "id                                                                       \n",
        "NM_015779          15.165         32.074         1.068          80.409   \n",
        "NM_025359         153.193        146.362        63.563          48.460   \n",
        "NM_177603           8.387         12.399         7.347          27.698   \n",
        "NM_027238          12.156         10.709        19.425           7.475   \n",
        "NR_105986           7.541          1.804         7.970          19.767   \n",
        "\n",
        "          gene_name       pc1       pc2  \n",
        "id                                       \n",
        "NM_015779     Elane -0.005017 -0.001364  \n",
        "NM_025359   Tspan13  0.001839 -0.058348  \n",
        "NM_177603     Frat2 -0.001272  0.001754  \n",
        "NM_027238    Ttc39b  0.000631  0.002537  \n",
        "NR_105986   Mir7019 -0.000752  0.004714  "
       ]
      }
     ],
     "prompt_number": 40
    },
    {
     "cell_type": "code",
     "collapsed": false,
     "input": [
      "filename = '../data/ap1_per_gene.txt'\n",
      "ap1 = pd.io.parsers.read_csv(filename, \n",
      "                             sep='\\t', \n",
      "                             header=0, index_col=0)\n",
      "ap1.head()"
     ],
     "language": "python",
     "metadata": {},
     "outputs": [
      {
       "html": [
        "<div style=\"max-height:1000px;max-width:1500px;overflow:auto;\">\n",
        "<table border=\"1\" class=\"dataframe\">\n",
        "  <thead>\n",
        "    <tr style=\"text-align: right;\">\n",
        "      <th></th>\n",
        "      <th>chr_name</th>\n",
        "      <th>transcription_start</th>\n",
        "      <th>transcription_end</th>\n",
        "      <th>strand</th>\n",
        "      <th>batf_tag_count</th>\n",
        "      <th>cjun_tag_count</th>\n",
        "      <th>irf4_tag_count</th>\n",
        "      <th>junb_tag_count</th>\n",
        "      <th>jund_tag_count</th>\n",
        "    </tr>\n",
        "    <tr>\n",
        "      <th>sequence_identifier</th>\n",
        "      <th></th>\n",
        "      <th></th>\n",
        "      <th></th>\n",
        "      <th></th>\n",
        "      <th></th>\n",
        "      <th></th>\n",
        "      <th></th>\n",
        "      <th></th>\n",
        "      <th></th>\n",
        "    </tr>\n",
        "  </thead>\n",
        "  <tbody>\n",
        "    <tr>\n",
        "      <th>NM_001001130</th>\n",
        "      <td> chr13</td>\n",
        "      <td>  67747799</td>\n",
        "      <td>  67755134</td>\n",
        "      <td> 1</td>\n",
        "      <td> 15.30</td>\n",
        "      <td>  8.87</td>\n",
        "      <td> 33.60</td>\n",
        "      <td>  0.0</td>\n",
        "      <td> 16.1</td>\n",
        "    </tr>\n",
        "    <tr>\n",
        "      <th>NM_001001144</th>\n",
        "      <td>  chr9</td>\n",
        "      <td> 110333355</td>\n",
        "      <td> 110384949</td>\n",
        "      <td> 0</td>\n",
        "      <td> 26.84</td>\n",
        "      <td> 14.30</td>\n",
        "      <td> 24.40</td>\n",
        "      <td> 27.6</td>\n",
        "      <td> 63.5</td>\n",
        "    </tr>\n",
        "    <tr>\n",
        "      <th>NM_001001152</th>\n",
        "      <td> chr13</td>\n",
        "      <td>  67254917</td>\n",
        "      <td>  67269068</td>\n",
        "      <td> 1</td>\n",
        "      <td> 27.50</td>\n",
        "      <td>  0.00</td>\n",
        "      <td>  6.69</td>\n",
        "      <td>  0.0</td>\n",
        "      <td> 40.6</td>\n",
        "    </tr>\n",
        "    <tr>\n",
        "      <th>NM_001001160</th>\n",
        "      <td>  chr6</td>\n",
        "      <td>  85469575</td>\n",
        "      <td>  85502994</td>\n",
        "      <td> 1</td>\n",
        "      <td>  0.00</td>\n",
        "      <td>  0.00</td>\n",
        "      <td>  0.00</td>\n",
        "      <td>  0.0</td>\n",
        "      <td>  0.0</td>\n",
        "    </tr>\n",
        "    <tr>\n",
        "      <th>NM_001001176</th>\n",
        "      <td>  chrX</td>\n",
        "      <td> 106206873</td>\n",
        "      <td> 106219842</td>\n",
        "      <td> 1</td>\n",
        "      <td>  0.00</td>\n",
        "      <td> 20.50</td>\n",
        "      <td> 10.40</td>\n",
        "      <td>  0.0</td>\n",
        "      <td> 29.1</td>\n",
        "    </tr>\n",
        "  </tbody>\n",
        "</table>\n",
        "</div>"
       ],
       "metadata": {},
       "output_type": "pyout",
       "prompt_number": 41,
       "text": [
        "                    chr_name  transcription_start  transcription_end  strand  \\\n",
        "sequence_identifier                                                            \n",
        "NM_001001130           chr13             67747799           67755134       1   \n",
        "NM_001001144            chr9            110333355          110384949       0   \n",
        "NM_001001152           chr13             67254917           67269068       1   \n",
        "NM_001001160            chr6             85469575           85502994       1   \n",
        "NM_001001176            chrX            106206873          106219842       1   \n",
        "\n",
        "                     batf_tag_count  cjun_tag_count  irf4_tag_count  \\\n",
        "sequence_identifier                                                   \n",
        "NM_001001130                  15.30            8.87           33.60   \n",
        "NM_001001144                  26.84           14.30           24.40   \n",
        "NM_001001152                  27.50            0.00            6.69   \n",
        "NM_001001160                   0.00            0.00            0.00   \n",
        "NM_001001176                   0.00           20.50           10.40   \n",
        "\n",
        "                     junb_tag_count  jund_tag_count  \n",
        "sequence_identifier                                  \n",
        "NM_001001130                    0.0            16.1  \n",
        "NM_001001144                   27.6            63.5  \n",
        "NM_001001152                    0.0            40.6  \n",
        "NM_001001160                    0.0             0.0  \n",
        "NM_001001176                    0.0            29.1  "
       ]
      }
     ],
     "prompt_number": 41
    },
    {
     "cell_type": "code",
     "collapsed": false,
     "input": [
      "# Merge on Refseq ID\n",
      "pca_ap1 = pd.merge(pca, ap1, how='left', \n",
      "                   left_index=True, right_index=True, \n",
      "                   suffixes=('','_refseq'))\n",
      "pca_ap1 = pca_ap1.fillna(0)\n",
      "pca_ap1.shape"
     ],
     "language": "python",
     "metadata": {},
     "outputs": [
      {
       "metadata": {},
       "output_type": "pyout",
       "prompt_number": 42,
       "text": [
        "(3459, 24)"
       ]
      }
     ],
     "prompt_number": 42
    },
    {
     "cell_type": "code",
     "collapsed": false,
     "input": [
      "# Per refseq id, plot PC1 value versus total AP1\n",
      "pca_ap1['ap1'] = pca_ap1[['batf_tag_count',\n",
      "                        'cjun_tag_count',\n",
      "                        'junb_tag_count',\n",
      "                        'jund_tag_count',\n",
      "                        ]].sum(axis=1)\n",
      "\n",
      "plt.figure()\n",
      "sns.lmplot('ap1', 'pc1', pca_ap1)\n",
      "#plt.xlim([0,400])\n",
      "plt.ylim([-.05,.05])"
     ],
     "language": "python",
     "metadata": {},
     "outputs": [
      {
       "metadata": {},
       "output_type": "pyout",
       "prompt_number": 64,
       "text": [
        "(-0.05, 0.05)"
       ]
      },
      {
       "metadata": {},
       "output_type": "display_data",
       "text": [
        "<matplotlib.figure.Figure at 0x10d6562e8>"
       ]
      },
      {
       "metadata": {},
       "output_type": "display_data",
       "png": "[encoded data removed]",
       "text": [
        "<matplotlib.figure.Figure at 0x10d668be0>"
       ]
      }
     ],
     "prompt_number": 64
    },
    {
     "cell_type": "code",
     "collapsed": false,
     "input": [
      "# Box plots of top versus bottom.\n",
      "pca_ap1_sorted = pca_ap1.sort('pc1')\n",
      "ten_pct = len(pca_ap1)//10\n",
      "plt.boxplot([pca_ap1_sorted[:ten_pct]['ap1'], pca_ap1_sorted[9*ten_pct:]['ap1']])\n",
      "plt.ylim([0,500])"
     ],
     "language": "python",
     "metadata": {},
     "outputs": [
      {
       "metadata": {},
       "output_type": "pyout",
       "prompt_number": 65,
       "text": [
        "(0, 500)"
       ]
      },
      {
       "metadata": {},
       "output_type": "display_data",
       "png": "[encoded data removed]",
       "text": [
        "<matplotlib.figure.Figure at 0x10f4d79b0>"
       ]
      }
     ],
     "prompt_number": 65
    },
    {
     "cell_type": "code",
     "collapsed": false,
     "input": [
      "# Box plots of top versus bottom.\n",
      "pca_ap1_sorted = pca_ap1.sort('pc2')\n",
      "ten_pct = len(pca_ap1)//10\n",
      "plt.boxplot([pca_ap1_sorted[:ten_pct]['ap1'], pca_ap1_sorted[9*ten_pct:]['ap1']])\n",
      "plt.ylim([0,500])"
     ],
     "language": "python",
     "metadata": {},
     "outputs": [
      {
       "metadata": {},
       "output_type": "pyout",
       "prompt_number": 66,
       "text": [
        "(0, 500)"
       ]
      },
      {
       "metadata": {},
       "output_type": "display_data",
       "png": "[encoded data removed]",
       "text": [
        "<matplotlib.figure.Figure at 0x10db13240>"
       ]
      }
     ],
     "prompt_number": 66
    },
    {
     "cell_type": "code",
     "collapsed": false,
     "input": [
      "# Box plots of top versus bottom.\n",
      "pca_ap1_sorted = pca_ap1.sort('pc1')\n",
      "ten_pct = len(pca_ap1)//10\n",
      "plt.boxplot([pca_ap1_sorted[:ten_pct]['batf_tag_count'], \n",
      "             pca_ap1_sorted[9*ten_pct:]['batf_tag_count']])\n",
      "plt.ylim([0,100])"
     ],
     "language": "python",
     "metadata": {},
     "outputs": [
      {
       "metadata": {},
       "output_type": "pyout",
       "prompt_number": 67,
       "text": [
        "(0, 100)"
       ]
      },
      {
       "metadata": {},
       "output_type": "display_data",
       "png": "[encoded data removed]",
       "text": [
        "<matplotlib.figure.Figure at 0x10fe7c518>"
       ]
      }
     ],
     "prompt_number": 67
    },
    {
     "cell_type": "code",
     "collapsed": false,
     "input": [],
     "language": "python",
     "metadata": {},
     "outputs": []
    }
   ],
   "metadata": {}
  }
 ]
}