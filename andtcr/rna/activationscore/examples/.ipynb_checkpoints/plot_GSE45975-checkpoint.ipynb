{
 "metadata": {
  "name": "",
  "signature": "sha256:6f0e1a3826d4a7a8a8db18164056b43f1e01886379f1caf8f9fc8ccbd451e427"
 },
 "nbformat": 3,
 "nbformat_minor": 0,
 "worksheets": [
  {
   "cells": [
    {
     "cell_type": "code",
     "collapsed": false,
     "input": [
      "'''\n",
      "We have a set of ~300 genes with names and scores.\n",
      "\n",
      "Given an RPKM file, normalize, extract the genes of interest,\n",
      "and determine score.\n",
      "'''"
     ],
     "language": "python",
     "metadata": {},
     "outputs": [
      {
       "metadata": {},
       "output_type": "pyout",
       "prompt_number": 1,
       "text": [
        "'\\nWe have a set of ~300 genes with names and scores.\\n\\nGiven an RPKM file, normalize, extract the genes of interest,\\nand determine score.\\n'"
       ]
      }
     ],
     "prompt_number": 1
    },
    {
     "cell_type": "code",
     "collapsed": false,
     "input": [
      "import pandas as pd\n",
      "import seaborn as sns\n",
      "import matplotlib.pyplot as plt\n",
      "import subprocess"
     ],
     "language": "python",
     "metadata": {},
     "outputs": [],
     "prompt_number": 2
    },
    {
     "cell_type": "code",
     "collapsed": false,
     "input": [
      "sns.set_context('poster')"
     ],
     "language": "python",
     "metadata": {},
     "outputs": [],
     "prompt_number": 3
    },
    {
     "cell_type": "code",
     "collapsed": false,
     "input": [
      "gse = 'GSE45975'\n",
      "fname = 'data/{}_rpkm.txt'.format(gse)\n",
      "\n",
      "data = pd.io.parsers.read_csv(fname, \n",
      "                sep='\\t', header=0)\n",
      "data = data.fillna(0)\n",
      "\n",
      "# Get gene column\n",
      "data['Gene symbol'] = [s.split('|')[0] for s in data['Annotation/Divergence']]\n",
      "headers = data.filter(like='reads FPKM').columns.tolist()\n",
      "print(headers)\n",
      "data.head()"
     ],
     "language": "python",
     "metadata": {},
     "outputs": [
      {
       "output_type": "stream",
       "stream": "stdout",
       "text": [
        "['CD4TCell-iTreg reads FPKM', 'CD4TCell-Naive reads FPKM', 'CD4TCell-Th1 reads FPKM', 'CD4TCell-Th17 reads FPKM', 'CD4TCell-Th2 reads FPKM']\n"
       ]
      },
      {
       "html": [
        "<div style=\"max-height:1000px;max-width:1500px;overflow:auto;\">\n",
        "<table border=\"1\" class=\"dataframe\">\n",
        "  <thead>\n",
        "    <tr style=\"text-align: right;\">\n",
        "      <th></th>\n",
        "      <th>Transcript/RepeatID (cmd=analyzeRepeats.pl rna mm10 -strand both -count exons -d CD4TCell-iTreg CD4TCell-Naive CD4TCell-Th1 CD4TCell-Th17 CD4TCell-Th2 -rpkm -condenseGenes)</th>\n",
        "      <th>chr</th>\n",
        "      <th>start</th>\n",
        "      <th>end</th>\n",
        "      <th>strand</th>\n",
        "      <th>Length</th>\n",
        "      <th>Copies</th>\n",
        "      <th>Annotation/Divergence</th>\n",
        "      <th>CD4TCell-iTreg reads FPKM</th>\n",
        "      <th>CD4TCell-Naive reads FPKM</th>\n",
        "      <th>CD4TCell-Th1 reads FPKM</th>\n",
        "      <th>CD4TCell-Th17 reads FPKM</th>\n",
        "      <th>CD4TCell-Th2 reads FPKM</th>\n",
        "      <th>Gene symbol</th>\n",
        "    </tr>\n",
        "  </thead>\n",
        "  <tbody>\n",
        "    <tr>\n",
        "      <th>0</th>\n",
        "      <td>    NM_010916</td>\n",
        "      <td>  chr1</td>\n",
        "      <td> 172052292</td>\n",
        "      <td> 172057596</td>\n",
        "      <td> -</td>\n",
        "      <td> 2483</td>\n",
        "      <td> 1</td>\n",
        "      <td> Nhlh1|Hen1|Nscl|Tal2|bHLHa35|-|1 H3|1 79.54 cM...</td>\n",
        "      <td> 0.000</td>\n",
        "      <td> 0.050</td>\n",
        "      <td> 0.068</td>\n",
        "      <td> 0.262</td>\n",
        "      <td> 0.111</td>\n",
        "      <td>   Nhlh1</td>\n",
        "    </tr>\n",
        "    <tr>\n",
        "      <th>1</th>\n",
        "      <td>    NM_020488</td>\n",
        "      <td>  chrX</td>\n",
        "      <td>  72825178</td>\n",
        "      <td>  72838544</td>\n",
        "      <td> +</td>\n",
        "      <td> 2247</td>\n",
        "      <td> 1</td>\n",
        "      <td>       Gabrq|-|RP23-307G22.1|X|X A6|protein-coding</td>\n",
        "      <td> 0.000</td>\n",
        "      <td> 0.000</td>\n",
        "      <td> 0.000</td>\n",
        "      <td> 0.000</td>\n",
        "      <td> 0.000</td>\n",
        "      <td>   Gabrq</td>\n",
        "    </tr>\n",
        "    <tr>\n",
        "      <th>2</th>\n",
        "      <td>    NR_106004</td>\n",
        "      <td>  chr5</td>\n",
        "      <td> 139767879</td>\n",
        "      <td> 139767943</td>\n",
        "      <td> -</td>\n",
        "      <td>   64</td>\n",
        "      <td> 1</td>\n",
        "      <td>                    Mir7037|mmu-mir-7037|-|-|ncRNA</td>\n",
        "      <td> 7.571</td>\n",
        "      <td> 2.882</td>\n",
        "      <td> 3.505</td>\n",
        "      <td> 3.703</td>\n",
        "      <td> 3.438</td>\n",
        "      <td> Mir7037</td>\n",
        "    </tr>\n",
        "    <tr>\n",
        "      <th>3</th>\n",
        "      <td>    NM_009436</td>\n",
        "      <td> chr16</td>\n",
        "      <td>  17898637</td>\n",
        "      <td>  17900024</td>\n",
        "      <td> +</td>\n",
        "      <td> 1385</td>\n",
        "      <td> 1</td>\n",
        "      <td> Tssk2|DGS-G|SPOGA2|Stk22b|Tsk2|-|16 A3|16 11.0...</td>\n",
        "      <td> 0.075</td>\n",
        "      <td> 0.155</td>\n",
        "      <td> 0.000</td>\n",
        "      <td> 0.171</td>\n",
        "      <td> 0.000</td>\n",
        "      <td>   Tssk2</td>\n",
        "    </tr>\n",
        "    <tr>\n",
        "      <th>4</th>\n",
        "      <td> NM_001161832</td>\n",
        "      <td> chr17</td>\n",
        "      <td>   8372396</td>\n",
        "      <td>   8422726</td>\n",
        "      <td> +</td>\n",
        "      <td> 1740</td>\n",
        "      <td> 1</td>\n",
        "      <td> T2|brachyury2|mCG_1050367|17 A1|17 4.92 cM|pro...</td>\n",
        "      <td> 0.179</td>\n",
        "      <td> 0.000</td>\n",
        "      <td> 0.064</td>\n",
        "      <td> 0.068</td>\n",
        "      <td> 0.032</td>\n",
        "      <td>      T2</td>\n",
        "    </tr>\n",
        "  </tbody>\n",
        "</table>\n",
        "</div>"
       ],
       "metadata": {},
       "output_type": "pyout",
       "prompt_number": 4,
       "text": [
        "  Transcript/RepeatID (cmd=analyzeRepeats.pl rna mm10 -strand both -count exons -d CD4TCell-iTreg CD4TCell-Naive CD4TCell-Th1 CD4TCell-Th17 CD4TCell-Th2 -rpkm -condenseGenes)  \\\n",
        "0                                          NM_010916                                                                                                                             \n",
        "1                                          NM_020488                                                                                                                             \n",
        "2                                          NR_106004                                                                                                                             \n",
        "3                                          NM_009436                                                                                                                             \n",
        "4                                       NM_001161832                                                                                                                             \n",
        "\n",
        "     chr      start        end strand  Length  Copies  \\\n",
        "0   chr1  172052292  172057596      -    2483       1   \n",
        "1   chrX   72825178   72838544      +    2247       1   \n",
        "2   chr5  139767879  139767943      -      64       1   \n",
        "3  chr16   17898637   17900024      +    1385       1   \n",
        "4  chr17    8372396    8422726      +    1740       1   \n",
        "\n",
        "                               Annotation/Divergence  \\\n",
        "0  Nhlh1|Hen1|Nscl|Tal2|bHLHa35|-|1 H3|1 79.54 cM...   \n",
        "1        Gabrq|-|RP23-307G22.1|X|X A6|protein-coding   \n",
        "2                     Mir7037|mmu-mir-7037|-|-|ncRNA   \n",
        "3  Tssk2|DGS-G|SPOGA2|Stk22b|Tsk2|-|16 A3|16 11.0...   \n",
        "4  T2|brachyury2|mCG_1050367|17 A1|17 4.92 cM|pro...   \n",
        "\n",
        "   CD4TCell-iTreg reads FPKM  CD4TCell-Naive reads FPKM  \\\n",
        "0                      0.000                      0.050   \n",
        "1                      0.000                      0.000   \n",
        "2                      7.571                      2.882   \n",
        "3                      0.075                      0.155   \n",
        "4                      0.179                      0.000   \n",
        "\n",
        "   CD4TCell-Th1 reads FPKM  CD4TCell-Th17 reads FPKM  CD4TCell-Th2 reads FPKM  \\\n",
        "0                    0.068                     0.262                    0.111   \n",
        "1                    0.000                     0.000                    0.000   \n",
        "2                    3.505                     3.703                    3.438   \n",
        "3                    0.000                     0.171                    0.000   \n",
        "4                    0.064                     0.068                    0.032   \n",
        "\n",
        "  Gene symbol  \n",
        "0       Nhlh1  \n",
        "1       Gabrq  \n",
        "2     Mir7037  \n",
        "3       Tssk2  \n",
        "4          T2  "
       ]
      }
     ],
     "prompt_number": 4
    },
    {
     "cell_type": "code",
     "collapsed": false,
     "input": [
      "headers_ordered = ['CD4TCell-iTreg reads FPKM', \n",
      "                   'CD4TCell-Naive reads FPKM', \n",
      "                   'CD4TCell-Th17 reads FPKM',\n",
      "                   'CD4TCell-Th2 reads FPKM',\n",
      "                   'CD4TCell-Th1 reads FPKM']\n",
      "labels = [s.replace('CD4TCell-','').replace(' reads FPKM','') for s in headers_ordered]"
     ],
     "language": "python",
     "metadata": {},
     "outputs": [],
     "prompt_number": 5
    },
    {
     "cell_type": "code",
     "collapsed": false,
     "input": [
      "subdata = data[['Gene symbol'] + headers_ordered]\n",
      "filename = 'data/{}_gene_values.txt'.format(gse)\n",
      "subdata.to_csv(filename,\n",
      "               header=True, index=False, sep='\\t')\n",
      "scores = subprocess.check_output('python ../calculate_activation_signature_score.py -f ' +\n",
      "                                '{}'.format(filename), shell=True)\n",
      "print(scores)"
     ],
     "language": "python",
     "metadata": {},
     "outputs": [
      {
       "output_type": "stream",
       "stream": "stdout",
       "text": [
        "b'Activation scores:\\ncd4tcell-itreg reads fpkm   -1.000000\\ncd4tcell-naive reads fpkm   -0.595948\\ncd4tcell-th17 reads fpkm     0.066767\\ncd4tcell-th2 reads fpkm      0.636060\\ncd4tcell-th1 reads fpkm      0.893121\\ndtype: float64\\n'\n"
       ]
      }
     ],
     "prompt_number": 6
    },
    {
     "cell_type": "code",
     "collapsed": false,
     "input": [
      "import sys\n",
      "sys.path.append('../')\n",
      "from calculate_activation_signature_score import ActivationOptionParser\n",
      "\n",
      "parser = ActivationOptionParser()\n",
      "filename = 'data/{}_gene_values.txt'.format(gse)\n",
      "scores = parser.scores_from_file(filename)\n"
     ],
     "language": "python",
     "metadata": {},
     "outputs": [],
     "prompt_number": 7
    },
    {
     "cell_type": "code",
     "collapsed": false,
     "input": [
      "# Set up colors\n",
      "colors = sns.color_palette(\"GnBu_d\", len(scores))"
     ],
     "language": "python",
     "metadata": {},
     "outputs": [],
     "prompt_number": 8
    },
    {
     "cell_type": "code",
     "collapsed": false,
     "input": [
      "x_range = range(0, len(scores))\n",
      "plt.figure()\n",
      "\n",
      "bars = plt.bar([x + .2 for x in x_range], scores, color=list(colors))\n",
      "\n",
      "# Label scores above bars\n",
      "for i, score in enumerate(scores):\n",
      "    if score < 0:\n",
      "        align = 'top'\n",
      "        height = score - .05\n",
      "    else: \n",
      "        align = 'bottom'\n",
      "        height = score + .05\n",
      "    plt.text(i + .6, height, '%.2f' % score,\n",
      "                ha='center', va=align, fontsize=14)\n",
      "\n",
      "plt.ylim([-1.1, 1.1])\n",
      "plt.xlim([0, len(scores) + .2])\n",
      "plt.ylabel('Activation Signature Score')\n",
      "\n",
      "plt.xticks([x + .6 for x in x_range], labels)\n",
      "\n",
      "title = 'Activation Signature Scores: {}'.format(gse)\n",
      "plt.title(title)\n",
      "plt.savefig('figures/{}.png'.format(title.replace(' ', '_')), bbox_inches='tight')"
     ],
     "language": "python",
     "metadata": {},
     "outputs": [
      {
       "metadata": {},
       "output_type": "display_data",
       "png": "[encoded data removed]",
       "text": [
        "<matplotlib.figure.Figure at 0x10c41c390>"
       ]
      }
     ],
     "prompt_number": 9
    },
    {
     "cell_type": "code",
     "collapsed": false,
     "input": [],
     "language": "python",
     "metadata": {},
     "outputs": [],
     "prompt_number": 9
    },
    {
     "cell_type": "code",
     "collapsed": false,
     "input": [],
     "language": "python",
     "metadata": {},
     "outputs": []
    }
   ],
   "metadata": {}
  }
 ]
}