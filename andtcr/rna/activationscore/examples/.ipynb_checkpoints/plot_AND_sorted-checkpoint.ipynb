{
 "cells": [
  {
   "cell_type": "code",
   "execution_count": 1,
   "metadata": {
    "collapsed": false
   },
   "outputs": [
    {
     "data": {
      "text/plain": [
       "'\\nWe have a set of ~300 genes with names and scores.\\n\\nGiven an RPKM file, normalize, extract the genes of interest,\\nand determine score.\\n'"
      ]
     },
     "execution_count": 1,
     "metadata": {},
     "output_type": "execute_result"
    }
   ],
   "source": [
    "'''\n",
    "We have a set of ~300 genes with names and scores.\n",
    "\n",
    "Given an RPKM file, normalize, extract the genes of interest,\n",
    "and determine score.\n",
    "'''"
   ]
  },
  {
   "cell_type": "code",
   "execution_count": 4,
   "metadata": {
    "collapsed": false
   },
   "outputs": [],
   "source": [
    "import pandas as pd\n",
    "import matplotlib.pyplot as plt\n",
    "import matplotlib as mpl\n",
    "import subprocess"
   ]
  },
  {
   "cell_type": "code",
   "execution_count": 5,
   "metadata": {
    "collapsed": false
   },
   "outputs": [],
   "source": [
    "colorset = ['#763C87','#1FA2F4','#0569CE','#F48C36','#E54028']\n",
    "greens = ['#37535e', '#3b748a', '#4095b5', '#52aec9', '#72bfc4', '#93d0bf']\n",
    "\n",
    "mpl.rcParams.update({\n",
    "'backend': 'MacOSX',\n",
    "'text.usetex': 'false',\n",
    "'font.family': 'Myriad Pro',\n",
    "'font.size': 18, \n",
    "'figure.subplot.hspace': .4,\n",
    "'figure.subplot.bottom': 0.125, \n",
    "'savefig.dpi': 600,\n",
    "'savefig.format': 'pdf', \n",
    "'pdf.fonttype': 42,\n",
    "'figure.edgecolor': (1, 1, 1, 0), \n",
    "'figure.facecolor': (1, 1, 1, 0), \n",
    "'figure.figsize': (15.0, 10.0),\n",
    "'font.weight': 'bold',\n",
    "'axes.labelweight': 'bold',\n",
    "'axes.titlesize': 36,\n",
    "'lines.markersize': 11.200000000000001,\n",
    " 'ytick.major.width': 1.6,\n",
    " 'xtick.major.width': 1.6,\n",
    " 'lines.markeredgewidth': 0.0,\n",
    " 'xtick.major.pad': 11.200000000000001,\n",
    " 'ytick.minor.width': 0.8,\n",
    " 'grid.linewidth': 1.6,\n",
    " 'lines.linewidth': 2.8000000000000003,\n",
    " 'ytick.major.pad': 11.200000000000001,\n",
    "})"
   ]
  },
  {
   "cell_type": "code",
   "execution_count": 8,
   "metadata": {
    "collapsed": false
   },
   "outputs": [
    {
     "name": "stdout",
     "output_type": "stream",
     "text": [
      "(24453, 15)\n"
     ]
    },
    {
     "data": {
      "text/html": [
       "<div>\n",
       "<table border=\"1\" class=\"dataframe\">\n",
       "  <thead>\n",
       "    <tr style=\"text-align: right;\">\n",
       "      <th></th>\n",
       "      <th>chr</th>\n",
       "      <th>start</th>\n",
       "      <th>end</th>\n",
       "      <th>strand</th>\n",
       "      <th>Length</th>\n",
       "      <th>Copies</th>\n",
       "      <th>Annotation/Divergence</th>\n",
       "      <th>Tcell-CD69neg-K99A10-22h-ES FPKM</th>\n",
       "      <th>Tcell-CD69neg-nopept-22h-ES FPKM</th>\n",
       "      <th>Tcell-CD69neg-PCC01-22h-ES FPKM</th>\n",
       "      <th>Tcell-CD69neg-PCC1-22h-ES FPKM</th>\n",
       "      <th>Tcell-CD69pos-K99A100-22h-ES FPKM</th>\n",
       "      <th>Tcell-CD69pos-K99A10-22h-ES FPKM</th>\n",
       "      <th>Tcell-CD69pos-PCC01-22h-ES FPKM</th>\n",
       "      <th>Tcell-CD69pos-PCC1-22h-ES FPKM</th>\n",
       "      <th>Gene symbol</th>\n",
       "    </tr>\n",
       "    <tr>\n",
       "      <th>Transcript/RepeatID (cmd=analyzeRepeats.pl rna mm10 -strand both -count exons -d Tcell-CD69neg-K99A10-22h-ES Tcell-CD69neg-nopept-22h-ES Tcell-CD69neg-PCC01-22h-ES Tcell-CD69neg-PCC1-22h-ES Tcell-CD69pos-K99A100-22h-ES Tcell-CD69pos-K99A10-22h-ES Tcell-CD69pos-PCC01-22h-ES Tcell-CD69pos-PCC1-22h-ES -rpkm -condenseGenes)</th>\n",
       "      <th></th>\n",
       "      <th></th>\n",
       "      <th></th>\n",
       "      <th></th>\n",
       "      <th></th>\n",
       "      <th></th>\n",
       "      <th></th>\n",
       "      <th></th>\n",
       "      <th></th>\n",
       "      <th></th>\n",
       "      <th></th>\n",
       "      <th></th>\n",
       "      <th></th>\n",
       "      <th></th>\n",
       "      <th></th>\n",
       "      <th></th>\n",
       "    </tr>\n",
       "  </thead>\n",
       "  <tbody>\n",
       "    <tr>\n",
       "      <th>NM_001038996</th>\n",
       "      <td>chr6</td>\n",
       "      <td>41354105</td>\n",
       "      <td>41357944</td>\n",
       "      <td>+</td>\n",
       "      <td>883</td>\n",
       "      <td>1</td>\n",
       "      <td>Try10|-|-|6|6 B1|protein-coding</td>\n",
       "      <td>0.000</td>\n",
       "      <td>0.000</td>\n",
       "      <td>0.000</td>\n",
       "      <td>0</td>\n",
       "      <td>0.000</td>\n",
       "      <td>0.000</td>\n",
       "      <td>0.000</td>\n",
       "      <td>0.000</td>\n",
       "      <td>Try10</td>\n",
       "    </tr>\n",
       "    <tr>\n",
       "      <th>NM_001013751</th>\n",
       "      <td>chr5</td>\n",
       "      <td>134557254</td>\n",
       "      <td>134560171</td>\n",
       "      <td>-</td>\n",
       "      <td>2915</td>\n",
       "      <td>1</td>\n",
       "      <td>Syna|Gm453|Gm52|syncytin-A|-|5|5 G2|protein-co...</td>\n",
       "      <td>0.000</td>\n",
       "      <td>0.000</td>\n",
       "      <td>0.000</td>\n",
       "      <td>0</td>\n",
       "      <td>0.000</td>\n",
       "      <td>0.000</td>\n",
       "      <td>0.000</td>\n",
       "      <td>0.049</td>\n",
       "      <td>Syna</td>\n",
       "    </tr>\n",
       "    <tr>\n",
       "      <th>NM_009838</th>\n",
       "      <td>chr5</td>\n",
       "      <td>129787356</td>\n",
       "      <td>129846443</td>\n",
       "      <td>+</td>\n",
       "      <td>2156</td>\n",
       "      <td>1</td>\n",
       "      <td>Cct6a|CCT-zeta|CCT-zeta-1|Cct6|Cctz-1|TCP-1-ze...</td>\n",
       "      <td>18.312</td>\n",
       "      <td>0.231</td>\n",
       "      <td>112.499</td>\n",
       "      <td>0</td>\n",
       "      <td>52.881</td>\n",
       "      <td>0.168</td>\n",
       "      <td>117.648</td>\n",
       "      <td>146.131</td>\n",
       "      <td>Cct6a</td>\n",
       "    </tr>\n",
       "    <tr>\n",
       "      <th>NM_001252516</th>\n",
       "      <td>chr5</td>\n",
       "      <td>106901889</td>\n",
       "      <td>106925890</td>\n",
       "      <td>-</td>\n",
       "      <td>1426</td>\n",
       "      <td>1</td>\n",
       "      <td>Hfm1|A330009G12Rik|Gm1046|Mer3|Sec63d1|-|5|5 E...</td>\n",
       "      <td>0.000</td>\n",
       "      <td>0.000</td>\n",
       "      <td>0.000</td>\n",
       "      <td>0</td>\n",
       "      <td>0.000</td>\n",
       "      <td>0.000</td>\n",
       "      <td>0.000</td>\n",
       "      <td>0.000</td>\n",
       "      <td>Hfm1</td>\n",
       "    </tr>\n",
       "    <tr>\n",
       "      <th>NM_172779</th>\n",
       "      <td>chrX</td>\n",
       "      <td>56454839</td>\n",
       "      <td>56507843</td>\n",
       "      <td>+</td>\n",
       "      <td>3789</td>\n",
       "      <td>1</td>\n",
       "      <td>Ddx26b|4930535D10Rik|6330505F04Rik|D130066O12|...</td>\n",
       "      <td>7.933</td>\n",
       "      <td>0.000</td>\n",
       "      <td>0.062</td>\n",
       "      <td>0</td>\n",
       "      <td>0.973</td>\n",
       "      <td>0.000</td>\n",
       "      <td>2.995</td>\n",
       "      <td>2.934</td>\n",
       "      <td>Ddx26b</td>\n",
       "    </tr>\n",
       "  </tbody>\n",
       "</table>\n",
       "</div>"
      ],
      "text/plain": [
       "                                                     chr      start  \\\n",
       "Transcript/RepeatID (cmd=analyzeRepeats.pl rna ...                    \n",
       "NM_001038996                                        chr6   41354105   \n",
       "NM_001013751                                        chr5  134557254   \n",
       "NM_009838                                           chr5  129787356   \n",
       "NM_001252516                                        chr5  106901889   \n",
       "NM_172779                                           chrX   56454839   \n",
       "\n",
       "                                                          end strand  Length  \\\n",
       "Transcript/RepeatID (cmd=analyzeRepeats.pl rna ...                             \n",
       "NM_001038996                                         41357944      +     883   \n",
       "NM_001013751                                        134560171      -    2915   \n",
       "NM_009838                                           129846443      +    2156   \n",
       "NM_001252516                                        106925890      -    1426   \n",
       "NM_172779                                            56507843      +    3789   \n",
       "\n",
       "                                                    Copies  \\\n",
       "Transcript/RepeatID (cmd=analyzeRepeats.pl rna ...           \n",
       "NM_001038996                                             1   \n",
       "NM_001013751                                             1   \n",
       "NM_009838                                                1   \n",
       "NM_001252516                                             1   \n",
       "NM_172779                                                1   \n",
       "\n",
       "                                                                                Annotation/Divergence  \\\n",
       "Transcript/RepeatID (cmd=analyzeRepeats.pl rna ...                                                      \n",
       "NM_001038996                                                          Try10|-|-|6|6 B1|protein-coding   \n",
       "NM_001013751                                        Syna|Gm453|Gm52|syncytin-A|-|5|5 G2|protein-co...   \n",
       "NM_009838                                           Cct6a|CCT-zeta|CCT-zeta-1|Cct6|Cctz-1|TCP-1-ze...   \n",
       "NM_001252516                                        Hfm1|A330009G12Rik|Gm1046|Mer3|Sec63d1|-|5|5 E...   \n",
       "NM_172779                                           Ddx26b|4930535D10Rik|6330505F04Rik|D130066O12|...   \n",
       "\n",
       "                                                    Tcell-CD69neg-K99A10-22h-ES FPKM  \\\n",
       "Transcript/RepeatID (cmd=analyzeRepeats.pl rna ...                                     \n",
       "NM_001038996                                                                   0.000   \n",
       "NM_001013751                                                                   0.000   \n",
       "NM_009838                                                                     18.312   \n",
       "NM_001252516                                                                   0.000   \n",
       "NM_172779                                                                      7.933   \n",
       "\n",
       "                                                    Tcell-CD69neg-nopept-22h-ES FPKM  \\\n",
       "Transcript/RepeatID (cmd=analyzeRepeats.pl rna ...                                     \n",
       "NM_001038996                                                                   0.000   \n",
       "NM_001013751                                                                   0.000   \n",
       "NM_009838                                                                      0.231   \n",
       "NM_001252516                                                                   0.000   \n",
       "NM_172779                                                                      0.000   \n",
       "\n",
       "                                                    Tcell-CD69neg-PCC01-22h-ES FPKM  \\\n",
       "Transcript/RepeatID (cmd=analyzeRepeats.pl rna ...                                    \n",
       "NM_001038996                                                                  0.000   \n",
       "NM_001013751                                                                  0.000   \n",
       "NM_009838                                                                   112.499   \n",
       "NM_001252516                                                                  0.000   \n",
       "NM_172779                                                                     0.062   \n",
       "\n",
       "                                                    Tcell-CD69neg-PCC1-22h-ES FPKM  \\\n",
       "Transcript/RepeatID (cmd=analyzeRepeats.pl rna ...                                   \n",
       "NM_001038996                                                                     0   \n",
       "NM_001013751                                                                     0   \n",
       "NM_009838                                                                        0   \n",
       "NM_001252516                                                                     0   \n",
       "NM_172779                                                                        0   \n",
       "\n",
       "                                                    Tcell-CD69pos-K99A100-22h-ES FPKM  \\\n",
       "Transcript/RepeatID (cmd=analyzeRepeats.pl rna ...                                      \n",
       "NM_001038996                                                                    0.000   \n",
       "NM_001013751                                                                    0.000   \n",
       "NM_009838                                                                      52.881   \n",
       "NM_001252516                                                                    0.000   \n",
       "NM_172779                                                                       0.973   \n",
       "\n",
       "                                                    Tcell-CD69pos-K99A10-22h-ES FPKM  \\\n",
       "Transcript/RepeatID (cmd=analyzeRepeats.pl rna ...                                     \n",
       "NM_001038996                                                                   0.000   \n",
       "NM_001013751                                                                   0.000   \n",
       "NM_009838                                                                      0.168   \n",
       "NM_001252516                                                                   0.000   \n",
       "NM_172779                                                                      0.000   \n",
       "\n",
       "                                                    Tcell-CD69pos-PCC01-22h-ES FPKM  \\\n",
       "Transcript/RepeatID (cmd=analyzeRepeats.pl rna ...                                    \n",
       "NM_001038996                                                                  0.000   \n",
       "NM_001013751                                                                  0.000   \n",
       "NM_009838                                                                   117.648   \n",
       "NM_001252516                                                                  0.000   \n",
       "NM_172779                                                                     2.995   \n",
       "\n",
       "                                                    Tcell-CD69pos-PCC1-22h-ES FPKM  \\\n",
       "Transcript/RepeatID (cmd=analyzeRepeats.pl rna ...                                   \n",
       "NM_001038996                                                                 0.000   \n",
       "NM_001013751                                                                 0.049   \n",
       "NM_009838                                                                  146.131   \n",
       "NM_001252516                                                                 0.000   \n",
       "NM_172779                                                                    2.934   \n",
       "\n",
       "                                                   Gene symbol  \n",
       "Transcript/RepeatID (cmd=analyzeRepeats.pl rna ...              \n",
       "NM_001038996                                             Try10  \n",
       "NM_001013751                                              Syna  \n",
       "NM_009838                                                Cct6a  \n",
       "NM_001252516                                              Hfm1  \n",
       "NM_172779                                               Ddx26b  "
      ]
     },
     "execution_count": 8,
     "metadata": {},
     "output_type": "execute_result"
    }
   ],
   "source": [
    "gse = 'and_sorted'\n",
    "filename = '../../data/sorted/rpkm.txt'\n",
    "data = pd.io.parsers.read_csv(filename, \n",
    "                                    sep='\\t', \n",
    "                                    header=0, index_col=0)\n",
    "\n",
    "print(data.shape)\n",
    "\n",
    "# Get gene column\n",
    "data['Gene symbol'] = [s.split('|')[0] for s in data['Annotation/Divergence']]\n",
    "\n",
    "cols = ['Tcell-CD69pos-K99A10-22h-ES FPKM',\n",
    "'Tcell-CD69pos-K99A100-22h-ES FPKM',\n",
    "'Tcell-CD69pos-PCC01-22h-ES FPKM',\n",
    "'Tcell-CD69pos-PCC1-22h-ES FPKM']\n",
    "\n",
    "labels = ['CD69+ 10uM K99A', \n",
    "          'CD69+ 100uM K99A', \n",
    "          'CD69+ 0.1uM PCC', \n",
    "          'CD69+ 1uM PCC']\n",
    "data.head()"
   ]
  },
  {
   "cell_type": "code",
   "execution_count": 9,
   "metadata": {
    "collapsed": false
   },
   "outputs": [
    {
     "data": {
      "text/plain": [
       "['Tcell-CD69pos-K99A10-22h-ES FPKM',\n",
       " 'Tcell-CD69pos-K99A100-22h-ES FPKM',\n",
       " 'Tcell-CD69pos-PCC01-22h-ES FPKM',\n",
       " 'Tcell-CD69pos-PCC1-22h-ES FPKM']"
      ]
     },
     "execution_count": 9,
     "metadata": {},
     "output_type": "execute_result"
    }
   ],
   "source": [
    "cols_ordered = cols #[item for sublist in zip(cols, meki_cols) for item in sublist]\n",
    "cols_ordered"
   ]
  },
  {
   "cell_type": "code",
   "execution_count": 10,
   "metadata": {
    "collapsed": false
   },
   "outputs": [
    {
     "name": "stdout",
     "output_type": "stream",
     "text": [
      "b'Warning! 350 of 352 signature genes found.\\nActivation scores:\\ntcell-cd69pos-k99a10-22h-es fpkm    -1.000000\\ntcell-cd69pos-k99a100-22h-es fpkm   -0.519664\\ntcell-cd69pos-pcc01-22h-es fpkm      0.779621\\ntcell-cd69pos-pcc1-22h-es fpkm       0.740043\\ndtype: float64\\n'\n"
     ]
    }
   ],
   "source": [
    "subdata = data[['Gene symbol'] + cols_ordered]\n",
    "filename = 'data/{}_gene_values.txt'.format(gse)\n",
    "subdata.to_csv(filename,\n",
    "               header=True, index=False, sep='\\t')\n",
    "scores = subprocess.check_output('python ../calculate_activation_signature_score.py -f ' +\n",
    "                                '{}'.format(filename), shell=True)\n",
    "print(scores)"
   ]
  },
  {
   "cell_type": "code",
   "execution_count": 11,
   "metadata": {
    "collapsed": false
   },
   "outputs": [
    {
     "name": "stdout",
     "output_type": "stream",
     "text": [
      "Warning! 350 of 352 signature genes found.\n"
     ]
    }
   ],
   "source": [
    "import sys\n",
    "sys.path.append('../')\n",
    "from calculate_activation_signature_score import ActivationOptionParser\n",
    "\n",
    "parser = ActivationOptionParser()\n",
    "filename = 'data/{}_gene_values.txt'.format(gse)\n",
    "scores = parser.scores_from_file(filename)\n"
   ]
  },
  {
   "cell_type": "code",
   "execution_count": 14,
   "metadata": {
    "collapsed": false
   },
   "outputs": [],
   "source": [
    "x_range = range(0, len(scores))\n",
    "plt.figure()\n",
    "\n",
    "bars = plt.bar([x + .2 for x in x_range], scores, color=list(colorset[1:]))\n",
    "\n",
    "# Label scores above bars\n",
    "for i, score in enumerate(scores):\n",
    "    if score < 0:\n",
    "        align = 'top'\n",
    "        height = score - .05\n",
    "    else: \n",
    "        align = 'bottom'\n",
    "        height = score + .05\n",
    "    plt.text(i + .6, height, '%.2f' % score,\n",
    "                ha='center', va=align, fontsize=14)\n",
    "\n",
    "plt.ylim([-1.1, 1.1])\n",
    "plt.xlim([0, len(scores) + .2])\n",
    "plt.ylabel('Activation Signature Score')\n",
    "\n",
    "plt.xticks([x + .6 for x in x_range], labels)\n",
    "\n",
    "title_str = 'Activation Signature Scores across Peptide Conditions for Sorted Cells'\n",
    "plt.title(title_str, y=1.01)\n",
    "plt.savefig('figures/{}'.format(title_str.replace(' ', '_')), bbox_inches='tight')"
   ]
  },
  {
   "cell_type": "code",
   "execution_count": null,
   "metadata": {
    "collapsed": false
   },
   "outputs": [],
   "source": []
  }
 ],
 "metadata": {
  "kernelspec": {
   "display_name": "Python 3",
   "language": "python",
   "name": "python3"
  },
  "language_info": {
   "codemirror_mode": {
    "name": "ipython",
    "version": 3
   },
   "file_extension": ".py",
   "mimetype": "text/x-python",
   "name": "python",
   "nbconvert_exporter": "python",
   "pygments_lexer": "ipython3",
   "version": "3.4.3"
  }
 },
 "nbformat": 4,
 "nbformat_minor": 0
}
