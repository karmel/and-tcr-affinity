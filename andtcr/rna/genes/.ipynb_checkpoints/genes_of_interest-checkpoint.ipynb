{
 "metadata": {
  "name": "",
  "signature": "sha256:6d4e9cef198e1d0fd8cffb4d0e360c80bf3f8c84ec774bb0d27dfc847e4f5908"
 },
 "nbformat": 3,
 "nbformat_minor": 0,
 "worksheets": [
  {
   "cells": [
    {
     "cell_type": "markdown",
     "metadata": {},
     "source": [
      "'''\n",
      "There are many individual genes of interest.\n",
      "\n",
      "We compare here.\n",
      "'''"
     ]
    },
    {
     "cell_type": "code",
     "collapsed": false,
     "input": [
      "import pandas as pd\n",
      "import seaborn as sns\n",
      "import matplotlib.pyplot as plt"
     ],
     "language": "python",
     "metadata": {},
     "outputs": [],
     "prompt_number": 10
    },
    {
     "cell_type": "code",
     "collapsed": false,
     "input": [
      "sns.set_context('poster')"
     ],
     "language": "python",
     "metadata": {},
     "outputs": [],
     "prompt_number": 11
    },
    {
     "cell_type": "code",
     "collapsed": false,
     "input": [
      "filename = '../data/mean/rpkm.txt'\n",
      "data = pd.io.parsers.read_csv(filename, \n",
      "                                    sep='\\t', \n",
      "                                    header=0)\n",
      "data.columns"
     ],
     "language": "python",
     "metadata": {},
     "outputs": [
      {
       "metadata": {},
       "output_type": "pyout",
       "prompt_number": 12,
       "text": [
        "Index(['id', 'id.1', 'chr', 'start', 'end', 'strand', 'Length', 'Copies', 'Annotation/Divergence', '0-1uM-PCC-24h-1', '100uM-K99A-24h-1', '10uM-K99A-24h-1', '10uM-PCC-24h-1', 'No-Peptide-24h-1', '0-1uM-PCC-24h-0-5uM-MEKi-2', '0-1uM-PCC-24h-2', '100uM-K99A-24h-0-5uM-MEKi-2', '100uM-K99A-24h-2', '10uM-K99A-24h-0-5uM-MEKi-2', '10uM-K99A-24h-2', '10uM-PCC-24h-0-5uM-MEKi-2', '10uM-PCC-24h-2', 'No-Peptide-24h-0-5uM-MEKi-2', 'No-Peptide-24h-2', 'No-Peptide-24h', '10uM-K99A-24h', '100uM-K99A-24h', '0-1uM-PCC-24h', '10uM-PCC-24h'], dtype='object')"
       ]
      }
     ],
     "prompt_number": 12
    },
    {
     "cell_type": "code",
     "collapsed": false,
     "input": [
      "cols = ['No-Peptide-24h',\n",
      "        '10uM-K99A-24h', \n",
      "        '100uM-K99A-24h', \n",
      "        '0-1uM-PCC-24h', \n",
      "        '10uM-PCC-24h', \n",
      "        ]\n",
      "std_cols = [s + '-std' for s in cols]"
     ],
     "language": "python",
     "metadata": {},
     "outputs": [],
     "prompt_number": 13
    },
    {
     "cell_type": "code",
     "collapsed": false,
     "input": [
      "# Extract the genes we care about.\n",
      "genes = ('Tcf7', 'Tbx21', 'Ccl5', 'Ccr7', \n",
      "         'Il7r', 'Sell',  'Nr4a3', \n",
      "         'Ly6c1', 'Ly6c2', \n",
      "         'Ctla4', 'Pdcd1', 'Icos', 'Map1lc3b',\n",
      "         # PC1\n",
      "         'Stat1', 'Stat5a', 'Il2ra', 'Nfkb1', 'Nfkb2',\n",
      "         'Nr4a1', 'Nr4a2', 'Irf1', 'Irf8', 'Irf4', \n",
      "         'Ly6a', 'Il2', 'Ccl22', 'Tnf', 'Ifng',\n",
      "         'Lta', 'Tnfsf11', 'Tnfsf8', 'Il17a',\n",
      "         'Etf1', 'Eif6', 'Cd6', 'Cd69', 'Cd4',\n",
      "         \n",
      "         # PC2\n",
      "         'Cd83', 'Gata3', 'Ikzf2', 'Lmna', 'Swap70', \n",
      "         'Kit', 'Adcy6', 'Anxa6', 'Tspan13', 'Gpr183', \n",
      "         'Lad1', 'Hcls1', 'Ccl4', 'Cd5', 'Rgs16', 'Nr4a2', \n",
      "         'Cd40lg', 'Iigp1', 'Spry1', 'Il13', 'Ccl3',\n",
      "         # Comparison\n",
      "         'Il4', 'Foxp3', 'Nrp1',)\n"
     ],
     "language": "python",
     "metadata": {},
     "outputs": [],
     "prompt_number": 14
    },
    {
     "cell_type": "code",
     "collapsed": false,
     "input": [
      "colors = sns.color_palette('husl',len(cols))[::-1]\n",
      "\n",
      "for gene in genes[:1]:\n",
      "    try: \n",
      "        idx = data[data['Annotation/Divergence'].str.startswith(gene + '|')].index[0]\n",
      "    except IndexError:\n",
      "        print('Could not find gene: ' + gene)\n",
      "        \n",
      "    gene_data = data.loc[idx]\n",
      "    \n",
      "    plt.figure()\n",
      "    x_range = range(0, len(cols))\n",
      "    \n",
      "    # Error bars\n",
      "    means = gene_data[cols]\n",
      "    stddev = gene_data[std_cols]\n",
      "    plt.bar([x + .2 for x in x_range], means, color=colors)\n",
      "    plt.errorbar([x + .6 for x in x_range], means, linewidth=0,\n",
      "        yerr=stddev, ecolor='black', elinewidth=.5, capsize=20)\n",
      "    plt.title(gene + ' Expression')\n",
      "    plt.ylabel('RPKM')\n",
      "\n",
      "    #plt.xticks(rotation=90)\n",
      "    #plt.ylim([0,1.1*max([ko.loc['Foxo1-KO-' + gene].max(), wt.loc[gene].max()])])\n",
      "\n",
      "    plt.savefig('figures/{}_Expression.png'.format(gene),\n",
      "            bbox_inches='tight')\n",
      "    #plt.cla()"
     ],
     "language": "python",
     "metadata": {},
     "outputs": [
      {
       "ename": "ValueError",
       "evalue": "In safezip, len(args[0])=5 but len(args[1])=0",
       "output_type": "pyerr",
       "traceback": [
        "\u001b[0;31m---------------------------------------------------------------------------\u001b[0m\n\u001b[0;31mValueError\u001b[0m                                Traceback (most recent call last)",
        "\u001b[0;32m<ipython-input-19-f63b27198e0f>\u001b[0m in \u001b[0;36m<module>\u001b[0;34m()\u001b[0m\n\u001b[1;32m     17\u001b[0m     \u001b[0mplt\u001b[0m\u001b[0;34m.\u001b[0m\u001b[0mbar\u001b[0m\u001b[0;34m(\u001b[0m\u001b[0;34m[\u001b[0m\u001b[0mx\u001b[0m \u001b[0;34m+\u001b[0m \u001b[0;36m.2\u001b[0m \u001b[0;32mfor\u001b[0m \u001b[0mx\u001b[0m \u001b[0;32min\u001b[0m \u001b[0mx_range\u001b[0m\u001b[0;34m]\u001b[0m\u001b[0;34m,\u001b[0m \u001b[0mmeans\u001b[0m\u001b[0;34m,\u001b[0m \u001b[0mcolor\u001b[0m\u001b[0;34m=\u001b[0m\u001b[0mcolors\u001b[0m\u001b[0;34m)\u001b[0m\u001b[0;34m\u001b[0m\u001b[0m\n\u001b[1;32m     18\u001b[0m     plt.errorbar([x + .6 for x in x_range], means, linewidth=0,\n\u001b[0;32m---> 19\u001b[0;31m         yerr=stddev, ecolor='black', elinewidth=.5, capsize=20)\n\u001b[0m\u001b[1;32m     20\u001b[0m     \u001b[0mplt\u001b[0m\u001b[0;34m.\u001b[0m\u001b[0mtitle\u001b[0m\u001b[0;34m(\u001b[0m\u001b[0mgene\u001b[0m \u001b[0;34m+\u001b[0m \u001b[0;34m' Expression'\u001b[0m\u001b[0;34m)\u001b[0m\u001b[0;34m\u001b[0m\u001b[0m\n\u001b[1;32m     21\u001b[0m     \u001b[0mplt\u001b[0m\u001b[0;34m.\u001b[0m\u001b[0mylabel\u001b[0m\u001b[0;34m(\u001b[0m\u001b[0;34m'RPKM'\u001b[0m\u001b[0;34m)\u001b[0m\u001b[0;34m\u001b[0m\u001b[0m\n",
        "\u001b[0;32m/Applications/anaconda/lib/python3.4/site-packages/matplotlib/pyplot.py\u001b[0m in \u001b[0;36merrorbar\u001b[0;34m(x, y, yerr, xerr, fmt, ecolor, elinewidth, capsize, barsabove, lolims, uplims, xlolims, xuplims, errorevery, capthick, hold, **kwargs)\u001b[0m\n\u001b[1;32m   2695\u001b[0m                           \u001b[0mbarsabove\u001b[0m\u001b[0;34m=\u001b[0m\u001b[0mbarsabove\u001b[0m\u001b[0;34m,\u001b[0m \u001b[0mlolims\u001b[0m\u001b[0;34m=\u001b[0m\u001b[0mlolims\u001b[0m\u001b[0;34m,\u001b[0m \u001b[0muplims\u001b[0m\u001b[0;34m=\u001b[0m\u001b[0muplims\u001b[0m\u001b[0;34m,\u001b[0m\u001b[0;34m\u001b[0m\u001b[0m\n\u001b[1;32m   2696\u001b[0m                           \u001b[0mxlolims\u001b[0m\u001b[0;34m=\u001b[0m\u001b[0mxlolims\u001b[0m\u001b[0;34m,\u001b[0m \u001b[0mxuplims\u001b[0m\u001b[0;34m=\u001b[0m\u001b[0mxuplims\u001b[0m\u001b[0;34m,\u001b[0m\u001b[0;34m\u001b[0m\u001b[0m\n\u001b[0;32m-> 2697\u001b[0;31m                           errorevery=errorevery, capthick=capthick, **kwargs)\n\u001b[0m\u001b[1;32m   2698\u001b[0m         \u001b[0mdraw_if_interactive\u001b[0m\u001b[0;34m(\u001b[0m\u001b[0;34m)\u001b[0m\u001b[0;34m\u001b[0m\u001b[0m\n\u001b[1;32m   2699\u001b[0m     \u001b[0;32mfinally\u001b[0m\u001b[0;34m:\u001b[0m\u001b[0;34m\u001b[0m\u001b[0m\n",
        "\u001b[0;32m/Applications/anaconda/lib/python3.4/site-packages/matplotlib/axes.py\u001b[0m in \u001b[0;36merrorbar\u001b[0;34m(self, x, y, yerr, xerr, fmt, ecolor, elinewidth, capsize, barsabove, lolims, uplims, xlolims, xuplims, errorevery, capthick, **kwargs)\u001b[0m\n\u001b[1;32m   5758\u001b[0m                 \u001b[0;31m# using list comps rather than arrays to preserve units\u001b[0m\u001b[0;34m\u001b[0m\u001b[0;34m\u001b[0m\u001b[0m\n\u001b[1;32m   5759\u001b[0m                 lower = [thisy - thiserr for (thisy, thiserr)\n\u001b[0;32m-> 5760\u001b[0;31m                          in cbook.safezip(y, yerr)]\n\u001b[0m\u001b[1;32m   5761\u001b[0m                 upper = [thisy + thiserr for (thisy, thiserr)\n\u001b[1;32m   5762\u001b[0m                          in cbook.safezip(y, yerr)]\n",
        "\u001b[0;32m/Applications/anaconda/lib/python3.4/site-packages/matplotlib/cbook.py\u001b[0m in \u001b[0;36msafezip\u001b[0;34m(*args)\u001b[0m\n\u001b[1;32m   1438\u001b[0m     \u001b[0;32mfor\u001b[0m \u001b[0mi\u001b[0m\u001b[0;34m,\u001b[0m \u001b[0marg\u001b[0m \u001b[0;32min\u001b[0m \u001b[0menumerate\u001b[0m\u001b[0;34m(\u001b[0m\u001b[0margs\u001b[0m\u001b[0;34m[\u001b[0m\u001b[0;36m1\u001b[0m\u001b[0;34m:\u001b[0m\u001b[0;34m]\u001b[0m\u001b[0;34m)\u001b[0m\u001b[0;34m:\u001b[0m\u001b[0;34m\u001b[0m\u001b[0m\n\u001b[1;32m   1439\u001b[0m         \u001b[0;32mif\u001b[0m \u001b[0mlen\u001b[0m\u001b[0;34m(\u001b[0m\u001b[0marg\u001b[0m\u001b[0;34m)\u001b[0m \u001b[0;34m!=\u001b[0m \u001b[0mNx\u001b[0m\u001b[0;34m:\u001b[0m\u001b[0;34m\u001b[0m\u001b[0m\n\u001b[0;32m-> 1440\u001b[0;31m             \u001b[0;32mraise\u001b[0m \u001b[0mValueError\u001b[0m\u001b[0;34m(\u001b[0m\u001b[0m_safezip_msg\u001b[0m \u001b[0;34m%\u001b[0m \u001b[0;34m(\u001b[0m\u001b[0mNx\u001b[0m\u001b[0;34m,\u001b[0m \u001b[0mi\u001b[0m \u001b[0;34m+\u001b[0m \u001b[0;36m1\u001b[0m\u001b[0;34m,\u001b[0m \u001b[0mlen\u001b[0m\u001b[0;34m(\u001b[0m\u001b[0marg\u001b[0m\u001b[0;34m)\u001b[0m\u001b[0;34m)\u001b[0m\u001b[0;34m)\u001b[0m\u001b[0;34m\u001b[0m\u001b[0m\n\u001b[0m\u001b[1;32m   1441\u001b[0m     \u001b[0;32mreturn\u001b[0m \u001b[0mlist\u001b[0m\u001b[0;34m(\u001b[0m\u001b[0mzip\u001b[0m\u001b[0;34m(\u001b[0m\u001b[0;34m*\u001b[0m\u001b[0margs\u001b[0m\u001b[0;34m)\u001b[0m\u001b[0;34m)\u001b[0m\u001b[0;34m\u001b[0m\u001b[0m\n\u001b[1;32m   1442\u001b[0m \u001b[0;34m\u001b[0m\u001b[0m\n",
        "\u001b[0;31mValueError\u001b[0m: In safezip, len(args[0])=5 but len(args[1])=0"
       ]
      },
      {
       "metadata": {},
       "output_type": "display_data",
       "png": "[encoded data removed]",
       "text": [
        "<matplotlib.figure.Figure at 0x114f5d8d0>"
       ]
      }
     ],
     "prompt_number": 19
    },
    {
     "cell_type": "code",
     "collapsed": false,
     "input": [],
     "language": "python",
     "metadata": {},
     "outputs": [],
     "prompt_number": 71
    },
    {
     "cell_type": "code",
     "collapsed": false,
     "input": [],
     "language": "python",
     "metadata": {},
     "outputs": []
    }
   ],
   "metadata": {}
  }
 ]
}