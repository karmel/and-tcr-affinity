{
 "metadata": {
  "name": "",
  "signature": "sha256:bf03f26ea6417d10c982d3849e58cd12b048655739492bbf0caef03b10ba976f"
 },
 "nbformat": 3,
 "nbformat_minor": 0,
 "worksheets": [
  {
   "cells": [
    {
     "cell_type": "markdown",
     "metadata": {},
     "source": [
      "'''\n",
      "There are many individual genes of interest.\n",
      "\n",
      "We compare here.\n",
      "'''"
     ]
    },
    {
     "cell_type": "code",
     "collapsed": false,
     "input": [
      "import pandas as pd\n",
      "import seaborn as sns\n",
      "import matplotlib.pyplot as plt"
     ],
     "language": "python",
     "metadata": {},
     "outputs": [],
     "prompt_number": 2
    },
    {
     "cell_type": "code",
     "collapsed": false,
     "input": [
      "sns.set_context('poster')"
     ],
     "language": "python",
     "metadata": {},
     "outputs": [],
     "prompt_number": 3
    },
    {
     "cell_type": "code",
     "collapsed": false,
     "input": [
      "filename = '../data/mean/rpkm.txt'\n",
      "data = pd.io.parsers.read_csv(filename, \n",
      "                                    sep='\\t', \n",
      "                                    header=0)\n",
      "data.columns"
     ],
     "language": "python",
     "metadata": {},
     "outputs": [
      {
       "metadata": {},
       "output_type": "pyout",
       "prompt_number": 4,
       "text": [
        "Index(['id', 'chr', 'start', 'end', 'strand', 'Length', 'Copies', 'Annotation/Divergence', '0-1uM-PCC-24h-1', '100uM-K99A-24h-1', '10uM-K99A-24h-1', '10uM-PCC-24h-1', 'No-Peptide-24h-1', '0-1uM-PCC-24h-MEKi', '0-1uM-PCC-24h-2', '100uM-K99A-24h-MEKi', '100uM-K99A-24h-2', '10uM-K99A-24h-MEKi', '10uM-K99A-24h-2', '10uM-PCC-24h-MEKi', '10uM-PCC-24h-2', 'No-Peptide-24h-MEKi', 'No-Peptide-24h-2', 'No-Peptide-24h', 'No-Peptide-24h-std', '10uM-K99A-24h', '10uM-K99A-24h-std', '100uM-K99A-24h', '100uM-K99A-24h-std', '0-1uM-PCC-24h', '0-1uM-PCC-24h-std', '10uM-PCC-24h', '10uM-PCC-24h-std'], dtype='object')"
       ]
      }
     ],
     "prompt_number": 4
    },
    {
     "cell_type": "code",
     "collapsed": false,
     "input": [
      "cols = ['No-Peptide-24h',\n",
      "        '10uM-K99A-24h', \n",
      "        '100uM-K99A-24h', \n",
      "        '0-1uM-PCC-24h', \n",
      "        '10uM-PCC-24h', \n",
      "        ]\n",
      "std_cols = [s + '-std' for s in cols]\n",
      "labels = ['No Peptide', '10uM K99A', '100uM K99A', '0.1uM PCC', '10uM PCC']"
     ],
     "language": "python",
     "metadata": {},
     "outputs": [],
     "prompt_number": 5
    },
    {
     "cell_type": "code",
     "collapsed": false,
     "input": [
      "# Extract the genes we care about.\n",
      "genes = ('Tcf7', 'Tbx21', 'Ccl5', 'Ccr7', \n",
      "         'Il7r', 'Sell',  'Nr4a3', \n",
      "         'Ly6c1', 'Ly6c2', \n",
      "         'Ctla4', 'Pdcd1', 'Icos', 'Map1lc3b',\n",
      "         # PC1\n",
      "         'Stat1', 'Stat5a', 'Il2ra', 'Nfkb1', 'Nfkb2',\n",
      "         'Nr4a1', 'Nr4a2', 'Irf1', 'Irf8', 'Irf4', \n",
      "         'Ly6a', 'Il2', 'Ccl22', 'Tnf', 'Ifng',\n",
      "         'Lta', 'Tnfsf11', 'Tnfsf8', 'Il17a',\n",
      "         'Cd6', 'Cd69', 'Cd4',\n",
      "         \n",
      "         # PC2\n",
      "         'Cd83', 'Gata3', 'Ikzf2', 'Lmna', 'Swap70', \n",
      "         'Kit', 'Adcy6', 'Anxa6', 'Tspan13', 'Gpr183', \n",
      "         'Lad1', 'Hcls1', 'Ccl4', 'Cd5', 'Rgs16', 'Nr4a2', \n",
      "         'Cd40lg', 'Iigp1', 'Spry1', 'Il13', 'Ccl3',\n",
      "         # Comparison\n",
      "         'Il4', 'Foxp3', 'Nrp1',\n",
      "         # Molecular chaperone\n",
      "         'Hsph1', 'Canx', 'Cct2', 'Cct3',\n",
      "         # Protein biosynthesis\n",
      "         'Etf1', 'Eif6', 'Eif3a', 'Eif3b', 'Eef1e1')\n"
     ],
     "language": "python",
     "metadata": {},
     "outputs": [],
     "prompt_number": 6
    },
    {
     "cell_type": "code",
     "collapsed": false,
     "input": [
      "genes = ['Tnf']\n",
      "sns.set_style(\"white\")\n",
      "colorset = ['#2B3F84','#70B77E','#065143','#E57A5D','#93032E']\n",
      "colorset = ['#421C38','#208AAE','#253C78','#CA895F','#BF5E1E']\n",
      "colorset = ['#1F35E0','#CFFFB0','#63C132','#F98B98','#E0061C']\n",
      "colorset = ['#7D0B8E','#327CC1','#054A87','#F99548','#BA5503']\n",
      "colorset = ['#113F8C','#D0D102','#61AE24','#F18D05','#E54028']\n",
      "#colorset = ['#763C87','#1FA2F4','#0569CE','#F48C36','#DE662C']\n",
      "\n",
      "for gene in genes:\n",
      "    try: \n",
      "        idx = data[data['Annotation/Divergence'].str.startswith(gene + '|')].index[0]\n",
      "    except IndexError:\n",
      "        print('Could not find gene: ' + gene)\n",
      "        \n",
      "    gene_data = data.loc[idx]\n",
      "    \n",
      "    plt.figure()\n",
      "    x_range = range(0, len(cols))\n",
      "    \n",
      "    # Error bars\n",
      "    means = gene_data[cols]\n",
      "    stddev = gene_data[std_cols]\n",
      "    plt.bar([x + .2 for x in x_range], means, color=colorset)\n",
      "    plt.errorbar([x + .6 for x in x_range], means, linewidth=0,\n",
      "        yerr=stddev, ecolor='black', elinewidth=.5, capsize=20)\n",
      "    \n",
      "    plt.xticks([x + .6 for x in x_range], labels)\n",
      "    plt.title(gene + ' Expression')\n",
      "    plt.ylabel('RPKM')\n",
      "\n",
      "    # Set y axis minimum, not max\n",
      "    plt.ylim(0, plt.ylim()[1])\n",
      "    plt.xlim([0, len(labels) + .2])\n",
      "\n",
      "    plt.savefig('figures/{}_Expression.png'.format(gene),\n",
      "            bbox_inches='tight')\n",
      "    #plt.cla()"
     ],
     "language": "python",
     "metadata": {},
     "outputs": [
      {
       "metadata": {},
       "output_type": "display_data",
       "png": "[encoded data removed]",
       "text": [
        "<matplotlib.figure.Figure at 0x10c3dcb70>"
       ]
      }
     ],
     "prompt_number": 21
    },
    {
     "cell_type": "code",
     "collapsed": false,
     "input": [],
     "language": "python",
     "metadata": {},
     "outputs": [],
     "prompt_number": 52
    },
    {
     "cell_type": "code",
     "collapsed": false,
     "input": [],
     "language": "python",
     "metadata": {},
     "outputs": []
    }
   ],
   "metadata": {}
  }
 ]
}