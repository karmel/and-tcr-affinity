{
 "metadata": {
  "name": "",
  "signature": "sha256:04be6713c7ec708574a33e480b01ae7f81b26afb477c51dd677c37748610b47c"
 },
 "nbformat": 3,
 "nbformat_minor": 0,
 "worksheets": [
  {
   "cells": [
    {
     "cell_type": "code",
     "collapsed": false,
     "input": [
      "'''\n",
      "Generate files for motif finding with Homer.\n",
      "\n",
      "Actual motif running done at the command line with Homer.\n",
      "\n",
      "Note that Homer requires the \\r line ending for all input files.\n",
      "'''"
     ],
     "language": "python",
     "metadata": {},
     "outputs": [
      {
       "metadata": {},
       "output_type": "pyout",
       "prompt_number": 12,
       "text": [
        "'\\nGenerate files for motif finding with Homer.\\n\\nActual motif running done at the command line with Homer.\\n\\nNote that Homer requires the \\r line ending for all input files.\\n'"
       ]
      }
     ],
     "prompt_number": 12
    },
    {
     "cell_type": "code",
     "collapsed": false,
     "input": [
      "import pandas as pd"
     ],
     "language": "python",
     "metadata": {},
     "outputs": [],
     "prompt_number": 13
    },
    {
     "cell_type": "code",
     "collapsed": false,
     "input": [
      "data = pd.io.parsers.read_csv('../clustering/data/me2_and/enhancers_me2_and_union.txt', \n",
      "                                    sep='\\t', \n",
      "                                    header=0)\n",
      "\n",
      "data = data.fillna(0)\n",
      "# Fill in strand col for ease of output file generation\n",
      "data['strand'] = 0"
     ],
     "language": "python",
     "metadata": {},
     "outputs": [],
     "prompt_number": 14
    },
    {
     "cell_type": "code",
     "collapsed": false,
     "input": [
      "peptides = ['no_peptide', '10um_k99a', '100um_k99a', '0_1um_pcc', '10um_pcc']\n",
      "fields = ['chr_name', 'start', 'end', 'strand']\n",
      "prefix = 'tag_count_'"
     ],
     "language": "python",
     "metadata": {},
     "outputs": [],
     "prompt_number": 19
    },
    {
     "cell_type": "code",
     "collapsed": false,
     "input": [
      "# First, all enhancers (union).\n",
      "data[fields].to_csv('output/enhancers_union.txt', sep='\\t', \n",
      "                    header=False, index=True,\n",
      "                    line_terminator='\\r\\n')"
     ],
     "language": "python",
     "metadata": {},
     "outputs": [],
     "prompt_number": 25
    },
    {
     "cell_type": "code",
     "collapsed": false,
     "input": [
      "for pep in peptides:\n",
      "    subdata = data[data[prefix + pep] > 0]\n",
      "    subdata[fields].to_csv('output/enhancers_all_{}.txt'.format(pep), \n",
      "                    sep='\\t', \n",
      "                    header=False, index=True,\n",
      "                    line_terminator='\\r\\n')"
     ],
     "language": "python",
     "metadata": {},
     "outputs": [],
     "prompt_number": 26
    },
    {
     "cell_type": "code",
     "collapsed": false,
     "input": [
      "fold = 2\n",
      "for i, pep in enumerate(peptides):\n",
      "    others = peptides[:i] + peptides[i+1:]\n",
      "    other_cols = [prefix + o for o in others]\n",
      "    subdata = data[data[prefix + pep] > fold*data[other_cols].max(axis=1)]\n",
      "    subdata[fields].to_csv('output/enhancers_{}x_{}.txt'.format(fold, pep), \n",
      "                    sep='\\t', \n",
      "                    header=False, index=True,\n",
      "                    line_terminator='\\r\\n')"
     ],
     "language": "python",
     "metadata": {},
     "outputs": [],
     "prompt_number": 27
    },
    {
     "cell_type": "code",
     "collapsed": false,
     "input": [
      "for i, pep in enumerate(peptides):\n",
      "    others = peptides[:i] + peptides[i+1:]\n",
      "    other_cols = [prefix + o for o in others]\n",
      "    subdata = data[data[other_cols].max(axis=1) == 0]\n",
      "    subdata[fields].to_csv('output/enhancers_only_{}.txt'.format(pep), \n",
      "                    sep='\\t', \n",
      "                    header=False, index=True,\n",
      "                    line_terminator='\\r\\n')"
     ],
     "language": "python",
     "metadata": {},
     "outputs": [],
     "prompt_number": 28
    },
    {
     "cell_type": "code",
     "collapsed": false,
     "input": [
      "'''\n",
      "Then run Homer:\n",
      "\n",
      "for f in *.txt; \n",
      "do \n",
      "OUTPUT=`echo ${f} | sed 's/\\.txt//g'`\n",
      "findMotifsGenome.pl $f mm10 ${OUTPUT}_motifs -size -100,+100 -len 8,10,12 -p 6;\n",
      "done;\n",
      "\n",
      "for f in *.txt; \n",
      "do \n",
      "OUTPUT=`echo ${f} | sed 's/\\.txt//g'`\n",
      "findMotifsGenome.pl $f mm10 ${OUTPUT}_known -mknown ../../motifs_of_interest/motifs_of_interest.motifs -nomotif -size -100,+100 -p 6\n",
      "done;\n",
      "\n",
      "'''"
     ],
     "language": "python",
     "metadata": {},
     "outputs": []
    },
    {
     "cell_type": "code",
     "collapsed": false,
     "input": [],
     "language": "python",
     "metadata": {},
     "outputs": []
    }
   ],
   "metadata": {}
  }
 ]
}