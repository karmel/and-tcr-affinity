{
 "metadata": {
  "name": "",
  "signature": "sha256:d6d54c48bac3ed6ee69760eefc747e0d41008238ae394fcf59d0dba399b1330b"
 },
 "nbformat": 3,
 "nbformat_minor": 0,
 "worksheets": [
  {
   "cells": [
    {
     "cell_type": "code",
     "collapsed": false,
     "input": [
      "'''\n",
      "Generate files for motif finding with Homer.\n",
      "\n",
      "Actual motif running done at the command line with Homer.\n",
      "\n",
      "Note that Homer requires the \\r line ending for all input files.\n",
      "'''"
     ],
     "language": "python",
     "metadata": {},
     "outputs": [
      {
       "metadata": {},
       "output_type": "pyout",
       "prompt_number": 1,
       "text": [
        "'\\nGenerate files for motif finding with Homer.\\n\\nActual motif running done at the command line with Homer.\\n\\nNote that Homer requires the \\r line ending for all input files.\\n'"
       ]
      }
     ],
     "prompt_number": 1
    },
    {
     "cell_type": "code",
     "collapsed": false,
     "input": [
      "import pandas as pd\n",
      "import matplotlib.pyplot as plt"
     ],
     "language": "python",
     "metadata": {},
     "outputs": [],
     "prompt_number": 2
    },
    {
     "cell_type": "code",
     "collapsed": false,
     "input": [
      "data = pd.io.parsers.read_csv('../enhancers/data/union_peaks_five_conditions.txt', \n",
      "                                    sep='\\t', \n",
      "                                    header=0)\n",
      "\n",
      "data = data.fillna(0)\n",
      "\n",
      "# Rename our columns of interest\n",
      "labels = ['No Peptide', '10uM K99A', '100uM K99A', '0.1uM PCC', '10uM PCC']\n",
      "last_five_columns = [labels[3], labels[2], labels[1], labels[4], labels[0]]\n",
      "\n",
      "data.columns = data.columns[:-5].tolist() + last_five_columns"
     ],
     "language": "python",
     "metadata": {},
     "outputs": [],
     "prompt_number": 4
    },
    {
     "cell_type": "code",
     "collapsed": false,
     "input": [
      "# Enhancers only\n",
      "data = data[data['Annotation'].str.contains('promoter') == False]\n",
      "#data = data[data['Distance to TSS'] < 5000]\n",
      "data.columns"
     ],
     "language": "python",
     "metadata": {},
     "outputs": [
      {
       "metadata": {},
       "output_type": "pyout",
       "prompt_number": 5,
       "text": [
        "Index(['PeakID (cmd=annotatePeaks.pl /data/mm10/CD4/ChIP/H3K4me2/AND-CD4TCell-ChIP-H3K4me2-All-Conditions-KAA-14-10-20/regions.txt mm10 -size given -d AND-CD4TCell-ChIP-H3K4me2-0_1uM-PCC-24h-Rep1-KAA-14-10-20 AND-CD4TCell-ChIP-H3K4me2-100uM-K99A-24h-Rep1-KAA-14-10-20 AND-CD4TCell-ChIP-H3K4me2-10uM-K99A-24h-Rep1-KAA-14-10-20 AND-CD4TCell-ChIP-H3K4me2-10uM-PCC-24h-Rep1-KAA-14-10-20 AND-CD4TCell-ChIP-H3K4me2-No-Peptide-24h-Rep1-KAA-14-10-20)', 'Chr', 'Start', 'End', 'Strand', 'Peak Score', 'Focus Ratio/Region Size', 'Annotation', 'Detailed Annotation', 'Distance to TSS', 'Nearest PromoterID', 'Entrez ID', 'Nearest Unigene', 'Nearest Refseq', 'Nearest Ensembl', 'Gene Name', 'Gene Alias', 'Gene Description', 'Gene Type', '0.1uM PCC', '100uM K99A', '10uM K99A', '10uM PCC', 'No Peptide'], dtype='object')"
       ]
      }
     ],
     "prompt_number": 5
    },
    {
     "cell_type": "code",
     "collapsed": false,
     "input": [
      "min_tags = 10"
     ],
     "language": "python",
     "metadata": {},
     "outputs": [],
     "prompt_number": 6
    },
    {
     "cell_type": "code",
     "collapsed": false,
     "input": [
      "# Activated only?\n",
      "fold = 1.5\n",
      "act = labels[1:]\n",
      "act_only = data[(data[act].max(axis=1) > data[labels[0]]*fold) &\n",
      "              (data[act].max(axis=1) > min_tags)]\n",
      "print('Activated but not {} enhancers'.format(labels[0]), len(act_only))\n",
      "act_only[labels].describe()"
     ],
     "language": "python",
     "metadata": {},
     "outputs": [
      {
       "output_type": "stream",
       "stream": "stdout",
       "text": [
        "Activated but not No Peptide enhancers 3416\n"
       ]
      },
      {
       "html": [
        "<div style=\"max-height:1000px;max-width:1500px;overflow:auto;\">\n",
        "<table border=\"1\" class=\"dataframe\">\n",
        "  <thead>\n",
        "    <tr style=\"text-align: right;\">\n",
        "      <th></th>\n",
        "      <th>No Peptide</th>\n",
        "      <th>10uM K99A</th>\n",
        "      <th>100uM K99A</th>\n",
        "      <th>0.1uM PCC</th>\n",
        "      <th>10uM PCC</th>\n",
        "    </tr>\n",
        "  </thead>\n",
        "  <tbody>\n",
        "    <tr>\n",
        "      <th>count</th>\n",
        "      <td> 3416.000000</td>\n",
        "      <td> 3416.000000</td>\n",
        "      <td> 3416.000000</td>\n",
        "      <td> 3416.000000</td>\n",
        "      <td> 3416.000000</td>\n",
        "    </tr>\n",
        "    <tr>\n",
        "      <th>mean</th>\n",
        "      <td>   16.019207</td>\n",
        "      <td>   23.753548</td>\n",
        "      <td>   21.689049</td>\n",
        "      <td>   26.829526</td>\n",
        "      <td>   24.621830</td>\n",
        "    </tr>\n",
        "    <tr>\n",
        "      <th>std</th>\n",
        "      <td>   22.820817</td>\n",
        "      <td>   35.322338</td>\n",
        "      <td>   30.796399</td>\n",
        "      <td>   40.650450</td>\n",
        "      <td>   35.572129</td>\n",
        "    </tr>\n",
        "    <tr>\n",
        "      <th>min</th>\n",
        "      <td>    0.000000</td>\n",
        "      <td>    0.910000</td>\n",
        "      <td>    0.570000</td>\n",
        "      <td>    1.850000</td>\n",
        "      <td>    1.160000</td>\n",
        "    </tr>\n",
        "    <tr>\n",
        "      <th>25%</th>\n",
        "      <td>    6.670000</td>\n",
        "      <td>    9.120000</td>\n",
        "      <td>    9.050000</td>\n",
        "      <td>   10.500000</td>\n",
        "      <td>   10.400000</td>\n",
        "    </tr>\n",
        "    <tr>\n",
        "      <th>50%</th>\n",
        "      <td>    9.180000</td>\n",
        "      <td>   13.230000</td>\n",
        "      <td>   13.010000</td>\n",
        "      <td>   14.820000</td>\n",
        "      <td>   14.440000</td>\n",
        "    </tr>\n",
        "    <tr>\n",
        "      <th>75%</th>\n",
        "      <td>   15.850000</td>\n",
        "      <td>   23.270000</td>\n",
        "      <td>   21.490000</td>\n",
        "      <td>   25.320000</td>\n",
        "      <td>   23.680000</td>\n",
        "    </tr>\n",
        "    <tr>\n",
        "      <th>max</th>\n",
        "      <td>  409.660000</td>\n",
        "      <td>  683.830000</td>\n",
        "      <td>  575.730000</td>\n",
        "      <td>  748.350000</td>\n",
        "      <td>  616.920000</td>\n",
        "    </tr>\n",
        "  </tbody>\n",
        "</table>\n",
        "</div>"
       ],
       "metadata": {},
       "output_type": "pyout",
       "prompt_number": 9,
       "text": [
        "        No Peptide    10uM K99A   100uM K99A    0.1uM PCC     10uM PCC\n",
        "count  3416.000000  3416.000000  3416.000000  3416.000000  3416.000000\n",
        "mean     16.019207    23.753548    21.689049    26.829526    24.621830\n",
        "std      22.820817    35.322338    30.796399    40.650450    35.572129\n",
        "min       0.000000     0.910000     0.570000     1.850000     1.160000\n",
        "25%       6.670000     9.120000     9.050000    10.500000    10.400000\n",
        "50%       9.180000    13.230000    13.010000    14.820000    14.440000\n",
        "75%      15.850000    23.270000    21.490000    25.320000    23.680000\n",
        "max     409.660000   683.830000   575.730000   748.350000   616.920000"
       ]
      }
     ],
     "prompt_number": 9
    },
    {
     "cell_type": "code",
     "collapsed": false,
     "input": [
      "act_only[['Chr', 'Start', 'End', 'Strand']].to_csv(\n",
      "            'output/activated_enhancers_{}x_H3K4me2.txt'.format(fold), \n",
      "              sep='\\t', header=True, index=True,\n",
      "              line_terminator='\\r\\n')\n",
      "data[['Chr', 'Start', 'End', 'Strand']].to_csv(\n",
      "            'output/all_enhancers_H3K4me2.txt', \n",
      "              sep='\\t', header=True, index=True,\n",
      "              line_terminator='\\r\\n')"
     ],
     "language": "python",
     "metadata": {},
     "outputs": [],
     "prompt_number": 10
    },
    {
     "cell_type": "code",
     "collapsed": false,
     "input": [
      "'''\n",
      "Then run Homer:\n",
      "\n",
      "for f in *.txt; \n",
      "do \n",
      "OUTPUT=`echo ${f} | sed 's/\\.txt//g'`\n",
      "findMotifsGenome.pl $f mm10 ${OUTPUT}_motifs -size -100,+100 -len 8,10,12 -p 6;\n",
      "done;\n",
      "\n",
      "for f in *.txt; \n",
      "do \n",
      "OUTPUT=`echo ${f} | sed 's/\\.txt//g'`\n",
      "findMotifsGenome.pl $f mm10 ${OUTPUT}_known -mknown ../../motifs_of_interest/motifs_of_interest.motifs -nomotif -size -100,+100 -p 6\n",
      "done;\n",
      "\n",
      "'''"
     ],
     "language": "python",
     "metadata": {},
     "outputs": [
      {
       "metadata": {},
       "output_type": "pyout",
       "prompt_number": 8,
       "text": [
        "\"\\nThen run Homer:\\n\\nfor f in *.txt; \\ndo \\nOUTPUT=`echo ${f} | sed 's/\\\\.txt//g'`\\nfindMotifsGenome.pl $f mm10 ${OUTPUT}_motifs -size -100,+100 -len 8,10,12 -p 6;\\ndone;\\n\\nfor f in *.txt; \\ndo \\nOUTPUT=`echo ${f} | sed 's/\\\\.txt//g'`\\nfindMotifsGenome.pl $f mm10 ${OUTPUT}_known -mknown ../../motifs_of_interest/motifs_of_interest.motifs -nomotif -size -100,+100 -p 6\\ndone;\\n\\n\""
       ]
      }
     ],
     "prompt_number": 8
    },
    {
     "cell_type": "code",
     "collapsed": false,
     "input": [
      "'''\n",
      "For parsing known results:\n",
      "\n",
      "mkdir 1um_known_results\n",
      "for f in *known/knownResults.txt; \n",
      "do \n",
      "OUTPUT=`dirname ${f}`\n",
      "cp $f activation_specific_known_results/${OUTPUT}.txt;\n",
      "done;\n",
      "\n",
      "'''\n"
     ],
     "language": "python",
     "metadata": {},
     "outputs": [
      {
       "metadata": {},
       "output_type": "pyout",
       "prompt_number": 9,
       "text": [
        "'\\nFor parsing known results:\\n\\nmkdir 1um_all_known_results 1um_only_known_results\\nfor f in *all*known/knownResults.txt; \\ndo \\nOUTPUT=`dirname ${f}`\\ncp $f 1um_all_known_results/${OUTPUT}.txt;\\ndone;\\n\\nfor f in *only*known/knownResults.txt; \\ndo \\nOUTPUT=`dirname ${f}`\\ncp $f 1um_only_known_results/${OUTPUT}.txt;\\ndone;\\n'"
       ]
      }
     ],
     "prompt_number": 9
    },
    {
     "cell_type": "code",
     "collapsed": false,
     "input": [
      "motifs = ['1-ACAGGAAGTG,BestGuess:ERG(ETS)/VCaP-ERG-ChIP-Seq(GSE14097)/Homer(0.984)',\n",
      "          'RUNX1(Runt)/Jurkat-RUNX1-ChIP-Seq(GSE29180)/Homer',\n",
      "          'IRF2(IRF)/Erythroblas-IRF2-ChIP-Seq(GSE36985)/Homer',\n",
      "          'AP-1(bZIP)/ThioMac-PU.1-ChIP-Seq(GSE21512)/Homer',\n",
      "          'Klf4(Zf)/mES-Klf4-ChIP-Seq(GSE11431)/Homer',\n",
      "          'NFkB-p65-Rel(RHD)/LPS-exp(GSE23622)/Homer']\n",
      "names = ['ETS', 'Runx', 'IRF', 'AP-1', 'KLF', 'NF-kB']\n",
      "labels = ['Activation-specific Enhancers', 'All Enhancers']\n",
      "files = ['activated_enhancers_{}x_H3K4me2'.format(fold), 'all_enhancers_H3K4me2']"
     ],
     "language": "python",
     "metadata": {},
     "outputs": [],
     "prompt_number": 15
    },
    {
     "cell_type": "code",
     "collapsed": false,
     "input": [],
     "language": "python",
     "metadata": {},
     "outputs": []
    }
   ],
   "metadata": {}
  }
 ]
}