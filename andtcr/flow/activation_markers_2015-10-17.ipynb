{
 "cells": [
  {
   "cell_type": "code",
   "execution_count": 1,
   "metadata": {
    "collapsed": false
   },
   "outputs": [
    {
     "data": {
      "text/plain": [
       "'\\nPlot output of FlowJo Geometric MFI analysis as a pretty bargraph.\\n'"
      ]
     },
     "execution_count": 1,
     "metadata": {},
     "output_type": "execute_result"
    }
   ],
   "source": [
    "'''\n",
    "Plot output of FlowJo Geometric MFI analysis as a pretty bargraph.\n",
    "'''"
   ]
  },
  {
   "cell_type": "code",
   "execution_count": 3,
   "metadata": {
    "collapsed": false
   },
   "outputs": [],
   "source": [
    "import pandas as pd\n",
    "import matplotlib.pyplot as plt"
   ]
  },
  {
   "cell_type": "code",
   "execution_count": 4,
   "metadata": {
    "collapsed": false
   },
   "outputs": [],
   "source": [
    "data = pd.io.parsers.read_csv('data/2015-10-17-CD69-MFI.csv', \n",
    "                                    sep=',', \n",
    "                                    header=0, index_col=0)\n",
    "\n",
    "# Remove Mean and SD rows\n",
    "data = data[data['SampleID'].isnull() == False]\n"
   ]
  },
  {
   "cell_type": "code",
   "execution_count": 5,
   "metadata": {
    "collapsed": false
   },
   "outputs": [
    {
     "data": {
      "text/html": [
       "<div>\n",
       "<table border=\"1\" class=\"dataframe\">\n",
       "  <thead>\n",
       "    <tr style=\"text-align: right;\">\n",
       "      <th></th>\n",
       "      <th>SampleID</th>\n",
       "      <th>Lymphocytes/CD4+/CD69+ | Freq. of Parent (%)</th>\n",
       "      <th>Lymphocytes/CD4+/CD69+ | Geometric Mean (Comp-530_40[488])</th>\n",
       "      <th>Unnamed: 4</th>\n",
       "    </tr>\n",
       "  </thead>\n",
       "  <tbody>\n",
       "    <tr>\n",
       "      <th>3_2_001.fcs</th>\n",
       "      <td>Group3-PCC-.1uM</td>\n",
       "      <td>62.9</td>\n",
       "      <td>191</td>\n",
       "      <td>NaN</td>\n",
       "    </tr>\n",
       "    <tr>\n",
       "      <th>3_3_001.fcs</th>\n",
       "      <td>Group3-PCC-10uM</td>\n",
       "      <td>91.7</td>\n",
       "      <td>220</td>\n",
       "      <td>NaN</td>\n",
       "    </tr>\n",
       "    <tr>\n",
       "      <th>4-1_001.fcs</th>\n",
       "      <td>Group4-K99A-100uM</td>\n",
       "      <td>45.0</td>\n",
       "      <td>117</td>\n",
       "      <td>NaN</td>\n",
       "    </tr>\n",
       "    <tr>\n",
       "      <th>4-2_001.fcs</th>\n",
       "      <td>Group4-PCC-.1uM</td>\n",
       "      <td>58.9</td>\n",
       "      <td>200</td>\n",
       "      <td>NaN</td>\n",
       "    </tr>\n",
       "    <tr>\n",
       "      <th>4-3_001.fcs</th>\n",
       "      <td>Group4-PCC-10uM</td>\n",
       "      <td>93.2</td>\n",
       "      <td>209</td>\n",
       "      <td>NaN</td>\n",
       "    </tr>\n",
       "  </tbody>\n",
       "</table>\n",
       "</div>"
      ],
      "text/plain": [
       "                      SampleID  Lymphocytes/CD4+/CD69+ | Freq. of Parent (%)  \\\n",
       "3_2_001.fcs    Group3-PCC-.1uM                                          62.9   \n",
       "3_3_001.fcs    Group3-PCC-10uM                                          91.7   \n",
       "4-1_001.fcs  Group4-K99A-100uM                                          45.0   \n",
       "4-2_001.fcs    Group4-PCC-.1uM                                          58.9   \n",
       "4-3_001.fcs    Group4-PCC-10uM                                          93.2   \n",
       "\n",
       "             Lymphocytes/CD4+/CD69+ | Geometric Mean (Comp-530_40[488])  \\\n",
       "3_2_001.fcs                                                191            \n",
       "3_3_001.fcs                                                220            \n",
       "4-1_001.fcs                                                117            \n",
       "4-2_001.fcs                                                200            \n",
       "4-3_001.fcs                                                209            \n",
       "\n",
       "             Unnamed: 4  \n",
       "3_2_001.fcs         NaN  \n",
       "3_3_001.fcs         NaN  \n",
       "4-1_001.fcs         NaN  \n",
       "4-2_001.fcs         NaN  \n",
       "4-3_001.fcs         NaN  "
      ]
     },
     "execution_count": 5,
     "metadata": {},
     "output_type": "execute_result"
    }
   ],
   "source": [
    "data.tail()"
   ]
  },
  {
   "cell_type": "code",
   "execution_count": 6,
   "metadata": {
    "collapsed": false
   },
   "outputs": [],
   "source": [
    "# Collapse numbered tube names\n",
    "data['SampleID'] = data['SampleID'].replace(to_replace='Group\\d-', \n",
    "                                              value='',\n",
    "                                              regex=True)\n",
    "\n",
    "col_order = data['SampleID'].unique().tolist()"
   ]
  },
  {
   "cell_type": "code",
   "execution_count": 7,
   "metadata": {
    "collapsed": false
   },
   "outputs": [],
   "source": [
    "labels = [s.replace('-', ' ').replace('_', '.') for s in col_order]"
   ]
  },
  {
   "cell_type": "code",
   "execution_count": 8,
   "metadata": {
    "collapsed": false
   },
   "outputs": [],
   "source": [
    "ab = 'CD69'\n",
    "col_name = 'Lymphocytes/CD4+/{}+ | Geometric Mean (Comp-530_40[488])'.format(ab)"
   ]
  },
  {
   "cell_type": "code",
   "execution_count": 9,
   "metadata": {
    "collapsed": false
   },
   "outputs": [],
   "source": [
    "# Group by name\n",
    "means = data.groupby(by='SampleID')[col_name].mean()[col_order]\n",
    "stddev = data.groupby(by='SampleID')[col_name].std()[col_order]"
   ]
  },
  {
   "cell_type": "code",
   "execution_count": 10,
   "metadata": {
    "collapsed": false
   },
   "outputs": [],
   "source": [
    "colorset = ['#763C87','#1FA2F4','#0569CE','#F48C36','#E54028']\n",
    "color_groups = [colorset[2], colorset[3], colorset[4]]"
   ]
  },
  {
   "cell_type": "code",
   "execution_count": 16,
   "metadata": {
    "collapsed": false
   },
   "outputs": [],
   "source": [
    "x_range = range(0, len(means))\n",
    "plt.figure()\n",
    "\n",
    "plt.bar([x + .2 for x in x_range], means, color=color_groups)\n",
    "plt.errorbar([x + .6 for x in x_range], means, linewidth=0,\n",
    "        yerr=stddev, ecolor='black', elinewidth=.5)\n",
    "plt.xlim([0, len(means) + .2])\n",
    "plt.ylabel('Mean Fluorescence Intensity for ' + ab)\n",
    "\n",
    "# Complicated x-axis.\n",
    "plt.xticks([x + .6 for x in x_range], labels)\n",
    "\n",
    "title = 'MFI of {}+ Population of Cells for Sorting'.format(ab)\n",
    "plt.title(title, y=1.01)\n",
    "plt.savefig('figures/{}.pdf'.format(title.replace(' ', '_')), bbox_inches='tight')"
   ]
  },
  {
   "cell_type": "code",
   "execution_count": null,
   "metadata": {
    "collapsed": false
   },
   "outputs": [],
   "source": []
  }
 ],
 "metadata": {
  "kernelspec": {
   "display_name": "Python 3",
   "language": "python",
   "name": "python3"
  },
  "language_info": {
   "codemirror_mode": {
    "name": "ipython",
    "version": 3
   },
   "file_extension": ".py",
   "mimetype": "text/x-python",
   "name": "python",
   "nbconvert_exporter": "python",
   "pygments_lexer": "ipython3",
   "version": "3.4.3"
  }
 },
 "nbformat": 4,
 "nbformat_minor": 0
}
