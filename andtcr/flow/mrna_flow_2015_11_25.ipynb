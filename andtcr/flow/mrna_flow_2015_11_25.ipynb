{
 "cells": [
  {
   "cell_type": "code",
   "execution_count": 29,
   "metadata": {
    "collapsed": false
   },
   "outputs": [
    {
     "name": "stdout",
     "output_type": "stream",
     "text": [
      "Populating the interactive namespace from numpy and matplotlib\n"
     ]
    },
    {
     "name": "stderr",
     "output_type": "stream",
     "text": [
      "WARNING: pylab import has clobbered these variables: ['title']\n",
      "`%matplotlib` prevents importing * from pylab and numpy\n"
     ]
    }
   ],
   "source": [
    "%pylab inline"
   ]
  },
  {
   "cell_type": "code",
   "execution_count": 24,
   "metadata": {
    "collapsed": false
   },
   "outputs": [],
   "source": [
    "import pandas as pd\n",
    "import matplotlib.pyplot as plt\n",
    "import matplotlib as mpl"
   ]
  },
  {
   "cell_type": "code",
   "execution_count": 25,
   "metadata": {
    "collapsed": false
   },
   "outputs": [],
   "source": [
    "colorset = ['#763C87','#1FA2F4','#0569CE','#F48C36','#E54028']\n",
    "greens = ['#37535e', '#3b748a', '#4095b5', '#52aec9', '#72bfc4', '#93d0bf']\n",
    "\n",
    "mpl.rcParams.update({\n",
    "'backend': 'MacOSX',\n",
    "'text.usetex': 'false',\n",
    "'font.family': 'Myriad Pro',\n",
    "'font.size': 18, \n",
    "'figure.subplot.hspace': .4,\n",
    "'figure.subplot.bottom': 0.125, \n",
    "'savefig.dpi': 600,\n",
    "'savefig.format': 'pdf', \n",
    "'pdf.fonttype': 42,\n",
    "'figure.edgecolor': (1, 1, 1, 0), \n",
    "'figure.facecolor': (1, 1, 1, 0), \n",
    "'figure.figsize': (15.0, 10.0),\n",
    "'font.weight': 'bold',\n",
    "'axes.labelweight': 'bold',\n",
    "'axes.titlesize': 36,\n",
    "'lines.markersize': 11.200000000000001,\n",
    " 'ytick.major.width': 1.6,\n",
    " 'xtick.major.width': 1.6,\n",
    " 'lines.markeredgewidth': 0.0,\n",
    " 'xtick.major.pad': 11.200000000000001,\n",
    " 'ytick.minor.width': 0.8,\n",
    " 'grid.linewidth': 1.6,\n",
    " 'lines.linewidth': 2.8000000000000003,\n",
    " 'ytick.major.pad': 11.200000000000001,\n",
    "})"
   ]
  },
  {
   "cell_type": "code",
   "execution_count": 26,
   "metadata": {
    "collapsed": false
   },
   "outputs": [],
   "source": [
    "data = pd.io.parsers.read_csv('data/mRNA-Flow-CD69-IRF4.csv', \n",
    "                                    sep=',', \n",
    "                                    header=0, index_col=0)\n",
    "\n",
    "# Remove Mean and SD rows\n",
    "data = data[data['SampleID'].isnull() == False]\n",
    "\n",
    "# Remove PMA positive controls\n",
    "data = data[data['SampleID'].str[:3] != 'PMA']"
   ]
  },
  {
   "cell_type": "code",
   "execution_count": 5,
   "metadata": {
    "collapsed": false
   },
   "outputs": [
    {
     "data": {
      "text/html": [
       "<div>\n",
       "<table border=\"1\" class=\"dataframe\">\n",
       "  <thead>\n",
       "    <tr style=\"text-align: right;\">\n",
       "      <th></th>\n",
       "      <th>SampleID</th>\n",
       "      <th>Lymphocytes/CD4+ | Geometric Mean (Comp-APC-A)</th>\n",
       "      <th>Unnamed: 3</th>\n",
       "    </tr>\n",
       "  </thead>\n",
       "  <tbody>\n",
       "    <tr>\n",
       "      <th>Specimen_001_4b Irf4.fcs</th>\n",
       "      <td>PCC-0.1uM-2</td>\n",
       "      <td>760</td>\n",
       "      <td>NaN</td>\n",
       "    </tr>\n",
       "    <tr>\n",
       "      <th>Specimen_001_5a Irf4.fcs</th>\n",
       "      <td>PCC-10uM-1</td>\n",
       "      <td>1238</td>\n",
       "      <td>NaN</td>\n",
       "    </tr>\n",
       "    <tr>\n",
       "      <th>Specimen_001_5a cd69.fcs</th>\n",
       "      <td>PCC-10uM-1</td>\n",
       "      <td>968</td>\n",
       "      <td>NaN</td>\n",
       "    </tr>\n",
       "    <tr>\n",
       "      <th>Specimen_001_5b Cd69.fcs</th>\n",
       "      <td>PCC-10uM-2</td>\n",
       "      <td>830</td>\n",
       "      <td>NaN</td>\n",
       "    </tr>\n",
       "    <tr>\n",
       "      <th>Specimen_001_5b Irf4.fcs</th>\n",
       "      <td>PCC-10uM-2</td>\n",
       "      <td>1045</td>\n",
       "      <td>NaN</td>\n",
       "    </tr>\n",
       "  </tbody>\n",
       "</table>\n",
       "</div>"
      ],
      "text/plain": [
       "                             SampleID  \\\n",
       "Specimen_001_4b Irf4.fcs  PCC-0.1uM-2   \n",
       "Specimen_001_5a Irf4.fcs   PCC-10uM-1   \n",
       "Specimen_001_5a cd69.fcs   PCC-10uM-1   \n",
       "Specimen_001_5b Cd69.fcs   PCC-10uM-2   \n",
       "Specimen_001_5b Irf4.fcs   PCC-10uM-2   \n",
       "\n",
       "                          Lymphocytes/CD4+ | Geometric Mean (Comp-APC-A)  \\\n",
       "Specimen_001_4b Irf4.fcs                                             760   \n",
       "Specimen_001_5a Irf4.fcs                                            1238   \n",
       "Specimen_001_5a cd69.fcs                                             968   \n",
       "Specimen_001_5b Cd69.fcs                                             830   \n",
       "Specimen_001_5b Irf4.fcs                                            1045   \n",
       "\n",
       "                          Unnamed: 3  \n",
       "Specimen_001_4b Irf4.fcs         NaN  \n",
       "Specimen_001_5a Irf4.fcs         NaN  \n",
       "Specimen_001_5a cd69.fcs         NaN  \n",
       "Specimen_001_5b Cd69.fcs         NaN  \n",
       "Specimen_001_5b Irf4.fcs         NaN  "
      ]
     },
     "execution_count": 5,
     "metadata": {},
     "output_type": "execute_result"
    }
   ],
   "source": [
    "data.tail()"
   ]
  },
  {
   "cell_type": "code",
   "execution_count": 34,
   "metadata": {
    "collapsed": false
   },
   "outputs": [
    {
     "data": {
      "text/plain": [
       "Specimen_001_1a Cd69.fcs    Cd69\n",
       "Specimen_001_1a Irf4.fcs    Irf4\n",
       "Specimen_001_1b Cd69.fcs    Cd69\n",
       "Specimen_001_2a Cd69.fcs    Cd69\n",
       "Specimen_001_2a Irf4.fcs    Irf4\n",
       "Specimen_001_2b Cd69.fcs    Cd69\n",
       "Specimen_001_3a Cd69.fcs    Cd69\n",
       "Specimen_001_3a Irf4.fcs    Irf4\n",
       "Specimen_001_3b Cd69.fcs    Cd69\n",
       "Specimen_001_4a Cd69.fcs    Cd69\n",
       "Specimen_001_4a Irf4.fcs    Irf4\n",
       "Specimen_001_4b Cd69.fcs    Cd69\n",
       "Specimen_001_4b Irf4.fcs    Irf4\n",
       "Specimen_001_5a Irf4.fcs    Irf4\n",
       "Specimen_001_5a cd69.fcs    Cd69\n",
       "Specimen_001_5b Cd69.fcs    Cd69\n",
       "Specimen_001_5b Irf4.fcs    Irf4\n",
       "Name: Probe, dtype: object"
      ]
     },
     "execution_count": 34,
     "metadata": {},
     "output_type": "execute_result"
    }
   ],
   "source": [
    "# Collapse numbered tube names\n",
    "data['Probe'] = data.index.str[-8:-4].str.title()\n",
    "data['TUBE NAME'] = data['SampleID'].str[:-2]\n",
    "data['Probe']"
   ]
  },
  {
   "cell_type": "code",
   "execution_count": 19,
   "metadata": {
    "collapsed": false
   },
   "outputs": [
    {
     "data": {
      "text/plain": [
       "(['No-Peptide', 'K99A-10uM', 'K99A-100uM', 'PCC-0.1uM', 'PCC-10uM'],\n",
       " ['No Peptide', 'K99A 10uM', 'K99A 100uM', 'PCC 0.1uM', 'PCC 10uM'])"
      ]
     },
     "execution_count": 19,
     "metadata": {},
     "output_type": "execute_result"
    }
   ],
   "source": [
    "# I want a particular ordering of columns.\n",
    "col_order = data['TUBE NAME'].unique().tolist()\n",
    "\n",
    "labels = [s.replace('-', ' ').replace('_', '.') for s in col_order]\n",
    "col_order, labels"
   ]
  },
  {
   "cell_type": "code",
   "execution_count": 20,
   "metadata": {
    "collapsed": false
   },
   "outputs": [],
   "source": [
    "ab = 'Cd69'\n",
    "col_name = 'Lymphocytes/CD4+ | Geometric Mean (Comp-APC-A)'"
   ]
  },
  {
   "cell_type": "code",
   "execution_count": 21,
   "metadata": {
    "collapsed": false
   },
   "outputs": [],
   "source": [
    "# Group by name\n",
    "subdata = data[data['Probe'] == ab]\n",
    "means = subdata.groupby(by='TUBE NAME')[col_name].mean()[col_order]\n",
    "stddev = subdata.groupby(by='TUBE NAME')[col_name].std()[col_order]"
   ]
  },
  {
   "cell_type": "code",
   "execution_count": 31,
   "metadata": {
    "collapsed": false
   },
   "outputs": [
    {
     "data": {
      "image/png": "[encoded data removed]",
      "text/plain": [
       "<matplotlib.figure.Figure at 0x10f788978>"
      ]
     },
     "metadata": {},
     "output_type": "display_data"
    }
   ],
   "source": [
    "x_range = range(0, len(means))\n",
    "plt.figure(figsize=[15, 10])\n",
    "\n",
    "plt.bar([x + .2 for x in x_range], means, color=colorset)\n",
    "plt.errorbar([x + .6 for x in x_range], means, linewidth=0,\n",
    "        yerr=stddev, ecolor='black', elinewidth=.5)\n",
    "plt.xlim([0, len(means) + .2])\n",
    "plt.ylabel('Mean Fluorescence Intensity for {} mRNA'.format(ab))\n",
    "\n",
    "plt.xticks([x + .6 for x in x_range], labels)\n",
    "\n",
    "plt.ylim([0, plt.ylim()[1]])\n",
    "\n",
    "title = 'MFI of {} mRNA'.format(ab)\n",
    "plt.title(title, y=1.01)\n",
    "plt.savefig('figures/{}'.format(title.replace(' ', '_')), bbox_inches='tight')"
   ]
  },
  {
   "cell_type": "code",
   "execution_count": 32,
   "metadata": {
    "collapsed": false
   },
   "outputs": [],
   "source": [
    "ab = 'Irf4'\n",
    "col_name = 'Lymphocytes/CD4+ | Geometric Mean (Comp-APC-A)'"
   ]
  },
  {
   "cell_type": "code",
   "execution_count": 35,
   "metadata": {
    "collapsed": false
   },
   "outputs": [],
   "source": [
    "# Group by name\n",
    "subdata = data[data['Probe'] == ab]\n",
    "means = subdata.groupby(by='TUBE NAME')[col_name].mean()[col_order]\n",
    "stddev = subdata.groupby(by='TUBE NAME')[col_name].std()[col_order]"
   ]
  },
  {
   "cell_type": "code",
   "execution_count": 36,
   "metadata": {
    "collapsed": false
   },
   "outputs": [
    {
     "data": {
      "image/png": "[encoded data removed]",
      "text/plain": [
       "<matplotlib.figure.Figure at 0x110f7ea90>"
      ]
     },
     "metadata": {},
     "output_type": "display_data"
    }
   ],
   "source": [
    "x_range = range(0, len(means))\n",
    "plt.figure(figsize=[15, 10])\n",
    "\n",
    "plt.bar([x + .2 for x in x_range], means, color=colorset)\n",
    "plt.errorbar([x + .6 for x in x_range], means, linewidth=0,\n",
    "        yerr=stddev, ecolor='black', elinewidth=.5)\n",
    "plt.xlim([0, len(means) + .2])\n",
    "plt.ylabel('Mean Fluorescence Intensity for {} mRNA'.format(ab))\n",
    "\n",
    "plt.xticks([x + .6 for x in x_range], labels)\n",
    "\n",
    "plt.ylim([0, plt.ylim()[1]])\n",
    "\n",
    "title = 'MFI of {} mRNA'.format(ab)\n",
    "plt.title(title, y=1.01)\n",
    "plt.savefig('figures/{}'.format(title.replace(' ', '_')), bbox_inches='tight')"
   ]
  },
  {
   "cell_type": "code",
   "execution_count": null,
   "metadata": {
    "collapsed": true
   },
   "outputs": [],
   "source": []
  }
 ],
 "metadata": {
  "kernelspec": {
   "display_name": "Python 3",
   "language": "python",
   "name": "python3"
  },
  "language_info": {
   "codemirror_mode": {
    "name": "ipython",
    "version": 3
   },
   "file_extension": ".py",
   "mimetype": "text/x-python",
   "name": "python",
   "nbconvert_exporter": "python",
   "pygments_lexer": "ipython3",
   "version": "3.4.3"
  }
 },
 "nbformat": 4,
 "nbformat_minor": 0
}
