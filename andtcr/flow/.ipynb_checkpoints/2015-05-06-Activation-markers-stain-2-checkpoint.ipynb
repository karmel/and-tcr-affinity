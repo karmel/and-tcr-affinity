{
 "metadata": {
  "name": "",
  "signature": "sha256:ac7cb0e1f6cb20160a5800480d5477ceee8f636fdea0bf6c9f178bd2d07fc95e"
 },
 "nbformat": 3,
 "nbformat_minor": 0,
 "worksheets": [
  {
   "cells": [
    {
     "cell_type": "code",
     "collapsed": false,
     "input": [
      "'''\n",
      "Plot output of FlowJo Geometric MFI analysis as a pretty bargraph.\n",
      "'''"
     ],
     "language": "python",
     "metadata": {},
     "outputs": [
      {
       "metadata": {},
       "output_type": "pyout",
       "prompt_number": 1,
       "text": [
        "'\\nPlot output of FlowJo Geometric MFI analysis as a pretty bargraph.\\n'"
       ]
      }
     ],
     "prompt_number": 1
    },
    {
     "cell_type": "code",
     "collapsed": false,
     "input": [
      "import pandas as pd\n",
      "import matplotlib.pyplot as plt"
     ],
     "language": "python",
     "metadata": {},
     "outputs": [],
     "prompt_number": 2
    },
    {
     "cell_type": "code",
     "collapsed": false,
     "input": [
      "data = pd.io.parsers.read_csv('data/2015-05-06-Activation-Markers-Stain-2_MFI.csv', \n",
      "                                    sep=',', \n",
      "                                    header=0, index_col=0)\n",
      "\n",
      "# Remove Mean and SD rows\n",
      "data = data[data['TUBE NAME'].isnull() == False]\n",
      "\n",
      "# Remove PMA positive controls\n",
      "data = data[data['TUBE NAME'].str[:3] != 'PMA']"
     ],
     "language": "python",
     "metadata": {},
     "outputs": [],
     "prompt_number": 3
    },
    {
     "cell_type": "code",
     "collapsed": false,
     "input": [
      "data.tail()"
     ],
     "language": "python",
     "metadata": {},
     "outputs": [
      {
       "html": [
        "<div style=\"max-height:1000px;max-width:1500px;overflow:auto;\">\n",
        "<table border=\"1\" class=\"dataframe\">\n",
        "  <thead>\n",
        "    <tr style=\"text-align: right;\">\n",
        "      <th></th>\n",
        "      <th>$SRC</th>\n",
        "      <th>TUBE NAME</th>\n",
        "      <th>Lymphocytes/CD4+/RANKL+ | Freq. of Parent (%)</th>\n",
        "      <th>Lymphocytes/CD4+/RANKL+ | Geometric Mean (Comp-APC-A)</th>\n",
        "      <th>Unnamed: 5</th>\n",
        "    </tr>\n",
        "  </thead>\n",
        "  <tbody>\n",
        "    <tr>\n",
        "      <th>AND-Mouse-2-CD69-CCR8-IL21-CD4-RANKL_No-Peptide_013.fcs</th>\n",
        "      <td> AND-Mouse-2-CD69-CCR8-IL21-CD4-RANKL</td>\n",
        "      <td> No-Peptide</td>\n",
        "      <td>  6.59</td>\n",
        "      <td> 1626</td>\n",
        "      <td>NaN</td>\n",
        "    </tr>\n",
        "    <tr>\n",
        "      <th>AND-Mouse-2-CD69-CCR8-IL21-CD4-RANKL_0_1uM-PCC_016.fcs</th>\n",
        "      <td> AND-Mouse-2-CD69-CCR8-IL21-CD4-RANKL</td>\n",
        "      <td>  0_1uM-PCC</td>\n",
        "      <td> 76.10</td>\n",
        "      <td> 3395</td>\n",
        "      <td>NaN</td>\n",
        "    </tr>\n",
        "    <tr>\n",
        "      <th>AND-Mouse-2-CD69-CCR8-IL21-CD4-RANKL_10uM-K99A_014.fcs</th>\n",
        "      <td> AND-Mouse-2-CD69-CCR8-IL21-CD4-RANKL</td>\n",
        "      <td>  10uM-K99A</td>\n",
        "      <td> 53.20</td>\n",
        "      <td> 2345</td>\n",
        "      <td>NaN</td>\n",
        "    </tr>\n",
        "    <tr>\n",
        "      <th>AND-Mouse-2-CD69-CCR8-IL21-CD4-RANKL_10uM-PCC_017.fcs</th>\n",
        "      <td> AND-Mouse-2-CD69-CCR8-IL21-CD4-RANKL</td>\n",
        "      <td>   10uM-PCC</td>\n",
        "      <td> 84.80</td>\n",
        "      <td> 3993</td>\n",
        "      <td>NaN</td>\n",
        "    </tr>\n",
        "    <tr>\n",
        "      <th>AND-Mouse-2-CD69-CCR8-IL21-CD4-RANKL_100uM-K99A_015.fcs</th>\n",
        "      <td> AND-Mouse-2-CD69-CCR8-IL21-CD4-RANKL</td>\n",
        "      <td> 100uM-K99A</td>\n",
        "      <td> 77.80</td>\n",
        "      <td> 3253</td>\n",
        "      <td>NaN</td>\n",
        "    </tr>\n",
        "  </tbody>\n",
        "</table>\n",
        "</div>"
       ],
       "metadata": {},
       "output_type": "pyout",
       "prompt_number": 4,
       "text": [
        "                                                                                         $SRC  \\\n",
        "AND-Mouse-2-CD69-CCR8-IL21-CD4-RANKL_No-Peptide_013.fcs  AND-Mouse-2-CD69-CCR8-IL21-CD4-RANKL   \n",
        "AND-Mouse-2-CD69-CCR8-IL21-CD4-RANKL_0_1uM-PCC_016.fcs   AND-Mouse-2-CD69-CCR8-IL21-CD4-RANKL   \n",
        "AND-Mouse-2-CD69-CCR8-IL21-CD4-RANKL_10uM-K99A_014.fcs   AND-Mouse-2-CD69-CCR8-IL21-CD4-RANKL   \n",
        "AND-Mouse-2-CD69-CCR8-IL21-CD4-RANKL_10uM-PCC_017.fcs    AND-Mouse-2-CD69-CCR8-IL21-CD4-RANKL   \n",
        "AND-Mouse-2-CD69-CCR8-IL21-CD4-RANKL_100uM-K99A_015.fcs  AND-Mouse-2-CD69-CCR8-IL21-CD4-RANKL   \n",
        "\n",
        "                                                          TUBE NAME  \\\n",
        "AND-Mouse-2-CD69-CCR8-IL21-CD4-RANKL_No-Peptide_013.fcs  No-Peptide   \n",
        "AND-Mouse-2-CD69-CCR8-IL21-CD4-RANKL_0_1uM-PCC_016.fcs    0_1uM-PCC   \n",
        "AND-Mouse-2-CD69-CCR8-IL21-CD4-RANKL_10uM-K99A_014.fcs    10uM-K99A   \n",
        "AND-Mouse-2-CD69-CCR8-IL21-CD4-RANKL_10uM-PCC_017.fcs      10uM-PCC   \n",
        "AND-Mouse-2-CD69-CCR8-IL21-CD4-RANKL_100uM-K99A_015.fcs  100uM-K99A   \n",
        "\n",
        "                                                         Lymphocytes/CD4+/RANKL+ | Freq. of Parent (%)  \\\n",
        "AND-Mouse-2-CD69-CCR8-IL21-CD4-RANKL_No-Peptide_013.fcs                                           6.59   \n",
        "AND-Mouse-2-CD69-CCR8-IL21-CD4-RANKL_0_1uM-PCC_016.fcs                                           76.10   \n",
        "AND-Mouse-2-CD69-CCR8-IL21-CD4-RANKL_10uM-K99A_014.fcs                                           53.20   \n",
        "AND-Mouse-2-CD69-CCR8-IL21-CD4-RANKL_10uM-PCC_017.fcs                                            84.80   \n",
        "AND-Mouse-2-CD69-CCR8-IL21-CD4-RANKL_100uM-K99A_015.fcs                                          77.80   \n",
        "\n",
        "                                                         Lymphocytes/CD4+/RANKL+ | Geometric Mean (Comp-APC-A)  \\\n",
        "AND-Mouse-2-CD69-CCR8-IL21-CD4-RANKL_No-Peptide_013.fcs                                               1626       \n",
        "AND-Mouse-2-CD69-CCR8-IL21-CD4-RANKL_0_1uM-PCC_016.fcs                                                3395       \n",
        "AND-Mouse-2-CD69-CCR8-IL21-CD4-RANKL_10uM-K99A_014.fcs                                                2345       \n",
        "AND-Mouse-2-CD69-CCR8-IL21-CD4-RANKL_10uM-PCC_017.fcs                                                 3993       \n",
        "AND-Mouse-2-CD69-CCR8-IL21-CD4-RANKL_100uM-K99A_015.fcs                                               3253       \n",
        "\n",
        "                                                         Unnamed: 5  \n",
        "AND-Mouse-2-CD69-CCR8-IL21-CD4-RANKL_No-Peptide_013.fcs         NaN  \n",
        "AND-Mouse-2-CD69-CCR8-IL21-CD4-RANKL_0_1uM-PCC_016.fcs          NaN  \n",
        "AND-Mouse-2-CD69-CCR8-IL21-CD4-RANKL_10uM-K99A_014.fcs          NaN  \n",
        "AND-Mouse-2-CD69-CCR8-IL21-CD4-RANKL_10uM-PCC_017.fcs           NaN  \n",
        "AND-Mouse-2-CD69-CCR8-IL21-CD4-RANKL_100uM-K99A_015.fcs         NaN  "
       ]
      }
     ],
     "prompt_number": 4
    },
    {
     "cell_type": "code",
     "collapsed": false,
     "input": [
      "# Collapse tube names\n",
      "data['TUBE NAME'].unique().tolist()"
     ],
     "language": "python",
     "metadata": {},
     "outputs": [
      {
       "metadata": {},
       "output_type": "pyout",
       "prompt_number": 5,
       "text": [
        "['No-Peptide', '0_1uM-PCC', '10uM-K99A', '10uM-PCC', '100uM-K99A']"
       ]
      }
     ],
     "prompt_number": 5
    },
    {
     "cell_type": "code",
     "collapsed": false,
     "input": [
      "# I want a particular ordering of columns.\n",
      "col_order = ['No-Peptide', '10uM-K99A', '100uM-K99A', '0_1uM-PCC', '10uM-PCC']\n",
      "\n",
      "labels = ['No Peptide', '10uM K99A', '100uM K99A', '0.1uM PCC', '10uM PCC']"
     ],
     "language": "python",
     "metadata": {},
     "outputs": [],
     "prompt_number": 14
    },
    {
     "cell_type": "code",
     "collapsed": false,
     "input": [
      "ab = 'RANKL'\n",
      "col_name = 'Lymphocytes/CD4+/{}+ | Geometric Mean (Comp-APC-A)'.format(ab)"
     ],
     "language": "python",
     "metadata": {},
     "outputs": [],
     "prompt_number": 15
    },
    {
     "cell_type": "code",
     "collapsed": false,
     "input": [
      "# Group by name\n",
      "means = data.groupby(by='TUBE NAME')[col_name].mean()[col_order]\n",
      "stddev = data.groupby(by='TUBE NAME')[col_name].std()[col_order]"
     ],
     "language": "python",
     "metadata": {},
     "outputs": [],
     "prompt_number": 16
    },
    {
     "cell_type": "code",
     "collapsed": false,
     "input": [
      "x_range = range(0, len(means))\n",
      "plt.figure()\n",
      "\n",
      "plt.bar([x + .2 for x in x_range], means, color=colorset)\n",
      "plt.errorbar([x + .6 for x in x_range], means, linewidth=0,\n",
      "        yerr=stddev, ecolor='black', elinewidth=.5)\n",
      "plt.xlim([0, len(means) + .2])\n",
      "plt.ylabel('Mean Fluorescence Intensity for ' + ab)\n",
      "\n",
      "plt.xticks([x + .6 for x in x_range], labels)\n",
      "\n",
      "title = 'MFI of {}+ Population'.format(ab)\n",
      "plt.title(title, y=1.01)\n",
      "plt.savefig('figures/{}'.format(title.replace(' ', '_')), bbox_inches='tight')"
     ],
     "language": "python",
     "metadata": {},
     "outputs": []
    },
    {
     "cell_type": "code",
     "collapsed": false,
     "input": [],
     "language": "python",
     "metadata": {},
     "outputs": []
    }
   ],
   "metadata": {}
  }
 ]
}