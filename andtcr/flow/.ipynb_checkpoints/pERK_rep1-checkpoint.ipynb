{
 "metadata": {
  "name": "",
  "signature": "sha256:26d29f8906cef9adff455ed362b1a8102383a3cfac3daef08d5a235082584f63"
 },
 "nbformat": 3,
 "nbformat_minor": 0,
 "worksheets": [
  {
   "cells": [
    {
     "cell_type": "code",
     "collapsed": false,
     "input": [
      "'''\n",
      "Plot output of FlowJo Geometric MFI analysis as a pretty bargraph.\n",
      "'''"
     ],
     "language": "python",
     "metadata": {},
     "outputs": [
      {
       "metadata": {},
       "output_type": "pyout",
       "prompt_number": 1,
       "text": [
        "'\\nPlot output of FlowJo Geometric MFI analysis as a pretty bargraph.\\n'"
       ]
      }
     ],
     "prompt_number": 1
    },
    {
     "cell_type": "code",
     "collapsed": false,
     "input": [
      "import pandas as pd\n",
      "import matplotlib.pyplot as plt"
     ],
     "language": "python",
     "metadata": {},
     "outputs": [],
     "prompt_number": 2
    },
    {
     "cell_type": "code",
     "collapsed": false,
     "input": [
      "data = pd.io.parsers.read_csv('data/pERK-MFI_rep1.csv', \n",
      "                                    sep=',', \n",
      "                                    header=0, index_col=0)\n",
      "\n",
      "# Remove Mean and SD rows\n",
      "data = data[data['TUBE NAME'].isnull() == False]\n",
      "\n",
      "# Remove PMA positive controls\n",
      "data = data[data['TUBE NAME'].str[:3] != 'PMA']"
     ],
     "language": "python",
     "metadata": {},
     "outputs": [],
     "prompt_number": 3
    },
    {
     "cell_type": "code",
     "collapsed": false,
     "input": [
      "data.tail()"
     ],
     "language": "python",
     "metadata": {},
     "outputs": [
      {
       "html": [
        "<div style=\"max-height:1000px;max-width:1500px;overflow:auto;\">\n",
        "<table border=\"1\" class=\"dataframe\">\n",
        "  <thead>\n",
        "    <tr style=\"text-align: right;\">\n",
        "      <th></th>\n",
        "      <th>TUBE NAME</th>\n",
        "      <th>Lymphocytes/CD4+/pERK+ | Freq. of Parent (%)</th>\n",
        "      <th>Lymphocytes/CD4+/pERK+ | Geometric Mean (Comp-FITC-A)</th>\n",
        "      <th>Unnamed: 4</th>\n",
        "    </tr>\n",
        "  </thead>\n",
        "  <tbody>\n",
        "    <tr>\n",
        "      <th>364453.fcs</th>\n",
        "      <td>  MCC-10uM</td>\n",
        "      <td> 74.60</td>\n",
        "      <td> 2032</td>\n",
        "      <td>NaN</td>\n",
        "    </tr>\n",
        "    <tr>\n",
        "      <th>364455.fcs</th>\n",
        "      <td> MCC-0_1uM</td>\n",
        "      <td>  8.81</td>\n",
        "      <td> 1866</td>\n",
        "      <td>NaN</td>\n",
        "    </tr>\n",
        "    <tr>\n",
        "      <th>364457.fcs</th>\n",
        "      <td> PCC-100uM</td>\n",
        "      <td> 80.10</td>\n",
        "      <td> 1959</td>\n",
        "      <td>NaN</td>\n",
        "    </tr>\n",
        "    <tr>\n",
        "      <th>364459.fcs</th>\n",
        "      <td>  PCC-10uM</td>\n",
        "      <td> 74.10</td>\n",
        "      <td> 2026</td>\n",
        "      <td>NaN</td>\n",
        "    </tr>\n",
        "    <tr>\n",
        "      <th>364461.fcs</th>\n",
        "      <td> PCC-0_1uM</td>\n",
        "      <td> 14.30</td>\n",
        "      <td> 1812</td>\n",
        "      <td>NaN</td>\n",
        "    </tr>\n",
        "  </tbody>\n",
        "</table>\n",
        "</div>"
       ],
       "metadata": {},
       "output_type": "pyout",
       "prompt_number": 4,
       "text": [
        "            TUBE NAME  Lymphocytes/CD4+/pERK+ | Freq. of Parent (%)  \\\n",
        "364453.fcs   MCC-10uM                                         74.60   \n",
        "364455.fcs  MCC-0_1uM                                          8.81   \n",
        "364457.fcs  PCC-100uM                                         80.10   \n",
        "364459.fcs   PCC-10uM                                         74.10   \n",
        "364461.fcs  PCC-0_1uM                                         14.30   \n",
        "\n",
        "            Lymphocytes/CD4+/pERK+ | Geometric Mean (Comp-FITC-A)  Unnamed: 4  \n",
        "364453.fcs                                               2032             NaN  \n",
        "364455.fcs                                               1866             NaN  \n",
        "364457.fcs                                               1959             NaN  \n",
        "364459.fcs                                               2026             NaN  \n",
        "364461.fcs                                               1812             NaN  "
       ]
      }
     ],
     "prompt_number": 4
    },
    {
     "cell_type": "code",
     "collapsed": false,
     "input": [
      "col_name = 'Lymphocytes/CD4+/pERK+ | Geometric Mean (Comp-FITC-A)'\n",
      "ab = 'pERK'"
     ],
     "language": "python",
     "metadata": {},
     "outputs": [],
     "prompt_number": 5
    },
    {
     "cell_type": "code",
     "collapsed": false,
     "input": [
      "# Set up colors\n",
      "colorset = greens\n",
      "\n",
      "# Get sets of three\n",
      "color_groups = zip(colorset, colorset, colorset)\n",
      "\n",
      "# Flatten\n",
      "color_groups = [item for sublist in color_groups for item in sublist]"
     ],
     "language": "python",
     "metadata": {},
     "outputs": [],
     "prompt_number": 7
    },
    {
     "cell_type": "code",
     "collapsed": false,
     "input": [
      "vals = data[col_name]\n",
      "labels = [tube.replace('-', ' ').replace('_', '.') for tube in data['TUBE NAME']]\n",
      "x_range = range(0, len(vals))\n",
      "plt.figure()\n",
      "plt.bar([x + .2 for x in x_range], vals, color=color_groups)\n",
      "plt.xlim([0, len(vals) + .2])\n",
      "plt.ylabel('Mean Fluorescence Intensity')\n",
      "plt.xticks([x + .6 for x in x_range], labels, rotation=90)\n",
      "title = 'MFI of {}+ Population by Condition'.format(ab)\n",
      "plt.title(title, y=1.01)\n",
      "plt.savefig('figures/{}'.format(title.replace(' ', '_')), bbox_inches='tight')"
     ],
     "language": "python",
     "metadata": {},
     "outputs": []
    },
    {
     "cell_type": "code",
     "collapsed": false,
     "input": [],
     "language": "python",
     "metadata": {},
     "outputs": [],
     "prompt_number": 32
    },
    {
     "cell_type": "code",
     "collapsed": false,
     "input": [],
     "language": "python",
     "metadata": {},
     "outputs": []
    }
   ],
   "metadata": {}
  }
 ]
}