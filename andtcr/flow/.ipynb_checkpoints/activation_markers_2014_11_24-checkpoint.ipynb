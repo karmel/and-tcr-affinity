{
 "metadata": {
  "name": "",
  "signature": "sha256:1b92f747f8e55dcec905ec6e415583b9b09f38cfa01af68f064687de37df2bd0"
 },
 "nbformat": 3,
 "nbformat_minor": 0,
 "worksheets": [
  {
   "cells": [
    {
     "cell_type": "code",
     "collapsed": false,
     "input": [
      "'''\n",
      "Plot output of FlowJo Geometric MFI analysis as a pretty bargraph.\n",
      "'''"
     ],
     "language": "python",
     "metadata": {},
     "outputs": [
      {
       "metadata": {},
       "output_type": "pyout",
       "prompt_number": 71,
       "text": [
        "'\\nPlot output of FlowJo Geometric MFI analysis as a pretty bargraph.\\n'"
       ]
      }
     ],
     "prompt_number": 71
    },
    {
     "cell_type": "code",
     "collapsed": false,
     "input": [
      "import pandas as pd\n",
      "import matplotlib.pyplot as plt"
     ],
     "language": "python",
     "metadata": {},
     "outputs": [],
     "prompt_number": 1
    },
    {
     "cell_type": "code",
     "collapsed": false,
     "input": [
      "data = pd.io.parsers.read_csv('data/CD69-CD25-MFI-Comp.csv', \n",
      "                                    sep=',', \n",
      "                                    header=0, index_col=0)\n",
      "\n",
      "# Remove Mean and SD rows\n",
      "data = data[data['TUBE NAME'].isnull() == False]\n",
      "\n",
      "# Remove PMA positive controls\n",
      "data = data[data['TUBE NAME'].str[:3] != 'PMA']"
     ],
     "language": "python",
     "metadata": {},
     "outputs": [],
     "prompt_number": 2
    },
    {
     "cell_type": "code",
     "collapsed": false,
     "input": [
      "data.tail()"
     ],
     "language": "python",
     "metadata": {},
     "outputs": [
      {
       "html": [
        "<div style=\"max-height:1000px;max-width:1500px;overflow:auto;\">\n",
        "<table border=\"1\" class=\"dataframe\">\n",
        "  <thead>\n",
        "    <tr style=\"text-align: right;\">\n",
        "      <th></th>\n",
        "      <th>TUBE NAME</th>\n",
        "      <th>Lymphocytes/Single Cells/Single Cells/CD4+/CD25+ | Freq. of Parent (%)</th>\n",
        "      <th>Lymphocytes/Single Cells/Single Cells/CD4+/CD25+ | Geometric Mean (Comp-PE-A)</th>\n",
        "      <th>Lymphocytes/Single Cells/Single Cells/CD4+/CD69+ | Freq. of Parent (%)</th>\n",
        "      <th>Lymphocytes/Single Cells/Single Cells/CD4+/CD69+ | Geometric Mean (Comp-FITC-A)</th>\n",
        "      <th>Unnamed: 6</th>\n",
        "    </tr>\n",
        "  </thead>\n",
        "  <tbody>\n",
        "    <tr>\n",
        "      <th>359829.fcs</th>\n",
        "      <td>  Y97K-10uM-2</td>\n",
        "      <td>  5.56</td>\n",
        "      <td> 1324</td>\n",
        "      <td> 5.88</td>\n",
        "      <td> 4685</td>\n",
        "      <td>NaN</td>\n",
        "    </tr>\n",
        "    <tr>\n",
        "      <th>359684.fcs</th>\n",
        "      <td> Y97K-100uM-1</td>\n",
        "      <td>  5.34</td>\n",
        "      <td> 1398</td>\n",
        "      <td> 4.19</td>\n",
        "      <td> 5086</td>\n",
        "      <td>NaN</td>\n",
        "    </tr>\n",
        "    <tr>\n",
        "      <th>359797.fcs</th>\n",
        "      <td> Y97K-100uM-1</td>\n",
        "      <td> 11.60</td>\n",
        "      <td> 1316</td>\n",
        "      <td> 9.39</td>\n",
        "      <td> 4985</td>\n",
        "      <td>NaN</td>\n",
        "    </tr>\n",
        "    <tr>\n",
        "      <th>359752.fcs</th>\n",
        "      <td> Y97K-100uM-2</td>\n",
        "      <td> 10.30</td>\n",
        "      <td> 1464</td>\n",
        "      <td> 7.60</td>\n",
        "      <td> 4822</td>\n",
        "      <td>NaN</td>\n",
        "    </tr>\n",
        "    <tr>\n",
        "      <th>359827.fcs</th>\n",
        "      <td> Y97K-100uM-2</td>\n",
        "      <td>  8.27</td>\n",
        "      <td> 1259</td>\n",
        "      <td> 8.39</td>\n",
        "      <td> 4653</td>\n",
        "      <td>NaN</td>\n",
        "    </tr>\n",
        "  </tbody>\n",
        "</table>\n",
        "</div>"
       ],
       "metadata": {},
       "output_type": "pyout",
       "prompt_number": 3,
       "text": [
        "               TUBE NAME  \\\n",
        "359829.fcs   Y97K-10uM-2   \n",
        "359684.fcs  Y97K-100uM-1   \n",
        "359797.fcs  Y97K-100uM-1   \n",
        "359752.fcs  Y97K-100uM-2   \n",
        "359827.fcs  Y97K-100uM-2   \n",
        "\n",
        "            Lymphocytes/Single Cells/Single Cells/CD4+/CD25+ | Freq. of Parent (%)  \\\n",
        "359829.fcs                                               5.56                        \n",
        "359684.fcs                                               5.34                        \n",
        "359797.fcs                                              11.60                        \n",
        "359752.fcs                                              10.30                        \n",
        "359827.fcs                                               8.27                        \n",
        "\n",
        "            Lymphocytes/Single Cells/Single Cells/CD4+/CD25+ | Geometric Mean (Comp-PE-A)  \\\n",
        "359829.fcs                                               1324                               \n",
        "359684.fcs                                               1398                               \n",
        "359797.fcs                                               1316                               \n",
        "359752.fcs                                               1464                               \n",
        "359827.fcs                                               1259                               \n",
        "\n",
        "            Lymphocytes/Single Cells/Single Cells/CD4+/CD69+ | Freq. of Parent (%)  \\\n",
        "359829.fcs                                               5.88                        \n",
        "359684.fcs                                               4.19                        \n",
        "359797.fcs                                               9.39                        \n",
        "359752.fcs                                               7.60                        \n",
        "359827.fcs                                               8.39                        \n",
        "\n",
        "            Lymphocytes/Single Cells/Single Cells/CD4+/CD69+ | Geometric Mean (Comp-FITC-A)  \\\n",
        "359829.fcs                                               4685                                 \n",
        "359684.fcs                                               5086                                 \n",
        "359797.fcs                                               4985                                 \n",
        "359752.fcs                                               4822                                 \n",
        "359827.fcs                                               4653                                 \n",
        "\n",
        "            Unnamed: 6  \n",
        "359829.fcs         NaN  \n",
        "359684.fcs         NaN  \n",
        "359797.fcs         NaN  \n",
        "359752.fcs         NaN  \n",
        "359827.fcs         NaN  "
       ]
      }
     ],
     "prompt_number": 3
    },
    {
     "cell_type": "code",
     "collapsed": false,
     "input": [
      "# Collapse numbered tube names\n",
      "data['TUBE NAME'] = data['TUBE NAME'].replace(to_replace='-\\d$', \n",
      "                                              value='',\n",
      "                                              regex=True)\n",
      "\n",
      "data['TUBE NAME'].unique().tolist()"
     ],
     "language": "python",
     "metadata": {},
     "outputs": [
      {
       "metadata": {},
       "output_type": "pyout",
       "prompt_number": 4,
       "text": [
        "['K99A-1uM',\n",
        " 'K99A-10uM',\n",
        " 'K99A-100uM',\n",
        " 'K99E-1uM',\n",
        " 'K99E-10uM',\n",
        " 'K99E-100uM',\n",
        " 'MCC-0_1uM',\n",
        " 'MCC-0_04uM',\n",
        " 'MCC-10uM',\n",
        " 'MCC-100uM',\n",
        " 'No-Peptide',\n",
        " 'PCC-0_1uM',\n",
        " 'PCC-0_02uM',\n",
        " 'PCC-0_04uM',\n",
        " 'PCC-10uM',\n",
        " 'PCC-100uM',\n",
        " 'Y97K-1uM',\n",
        " 'Y97K-10uM',\n",
        " 'Y97K-100uM']"
       ]
      }
     ],
     "prompt_number": 4
    },
    {
     "cell_type": "code",
     "collapsed": false,
     "input": [
      "# I want a particular ordering of columns.\n",
      "col_order = ['No-Peptide',\n",
      " 'Y97K-1uM',\n",
      " 'Y97K-10uM',\n",
      " 'Y97K-100uM',\n",
      " 'K99A-1uM',\n",
      " 'K99A-10uM',\n",
      " 'K99A-100uM',\n",
      " 'K99E-1uM',\n",
      " 'K99E-10uM',\n",
      " 'K99E-100uM',\n",
      " 'MCC-0_04uM',\n",
      " 'MCC-0_1uM',\n",
      " 'MCC-10uM',\n",
      " 'MCC-100uM',\n",
      " 'PCC-0_02uM',\n",
      " 'PCC-0_04uM',\n",
      " 'PCC-0_1uM',\n",
      " 'PCC-10uM',\n",
      " 'PCC-100uM',\n",
      " ]\n",
      "\n",
      "labels = [s.replace('-', ' ').replace('_', '.') for s in col_order]\n",
      "peps = pd.Series(labels[:1] + [s.split(' ')[0] for s in labels[1:]]).unique()\n",
      "concentrations = ['0uM'] + [s.split(' ')[1] for s in labels[1:]]"
     ],
     "language": "python",
     "metadata": {},
     "outputs": [],
     "prompt_number": 5
    },
    {
     "cell_type": "code",
     "collapsed": false,
     "input": [
      "ab = 'CD69'\n",
      "col_name = 'Lymphocytes/Single Cells/Single Cells/CD4+/{}+ | Geometric Mean (Comp-FITC-A)'.format(ab)"
     ],
     "language": "python",
     "metadata": {},
     "outputs": [],
     "prompt_number": 37
    },
    {
     "cell_type": "code",
     "collapsed": false,
     "input": [
      "# Group by name\n",
      "means = data.groupby(by='TUBE NAME')[col_name].mean()[col_order]\n",
      "stddev = data.groupby(by='TUBE NAME')[col_name].std()[col_order]"
     ],
     "language": "python",
     "metadata": {},
     "outputs": [],
     "prompt_number": 38
    },
    {
     "cell_type": "code",
     "collapsed": false,
     "input": [
      "colorset = greens\n",
      "# Get sets of six for the last five (leaving out no-pep)\n",
      "color_groups = zip(colorset[1:], colorset[1:], colorset[1:])\n",
      "\n",
      "# Flatten\n",
      "color_groups = colorset[:1] + [item for sublist in color_groups for item in sublist]\n",
      "\n",
      "# Add an extra set for the extra MCC sample\n",
      "color_groups.insert(-4, color_groups[-4])\n",
      "\n",
      "# Add an extra set for the last PCC samples\n",
      "color_groups += color_groups[-1:]*2"
     ],
     "language": "python",
     "metadata": {},
     "outputs": [],
     "prompt_number": 39
    },
    {
     "cell_type": "code",
     "collapsed": false,
     "input": [
      "x_range = range(0, len(means))\n",
      "plt.figure()\n",
      "\n",
      "plt.bar([x + .2 for x in x_range], means, color=color_groups)\n",
      "plt.errorbar([x + .6 for x in x_range], means, linewidth=0,\n",
      "        yerr=stddev, ecolor='black', elinewidth=.5)\n",
      "plt.xlim([0, len(means) + .2])\n",
      "plt.ylabel('Mean Fluorescence Intensity for ' + ab)\n",
      "\n",
      "# Complicated x-axis.\n",
      "plt.xticks([x + .6 for x in x_range], concentrations,\n",
      "           rotation=90)\n",
      "\n",
      "# Then, the peptide. Manually set because we have different counts per peptide...\n",
      "label_loc = [.6, 2.7, 5.7, 8.7, 12.2, 16.6]\n",
      "for i, loc in enumerate(label_loc):\n",
      "    plt.text(loc, -3500, peps[i].replace(' ', '\\n'), \n",
      "             horizontalalignment='center', fontsize=14)\n",
      "\n",
      "title = 'MFI of {}+ Population for All Peptides'.format(ab)\n",
      "plt.title(title, y=1.01)\n",
      "plt.savefig('figures/{}_(1)'.format(title.replace(' ', '_')), bbox_inches='tight')"
     ],
     "language": "python",
     "metadata": {},
     "outputs": []
    },
    {
     "cell_type": "code",
     "collapsed": false,
     "input": [
      "ab = 'CD25'\n",
      "col_name = 'Lymphocytes/Single Cells/Single Cells/CD4+/{}+ | Geometric Mean (Comp-PE-A)'.format(ab)"
     ],
     "language": "python",
     "metadata": {},
     "outputs": []
    },
    {
     "cell_type": "code",
     "collapsed": false,
     "input": [
      "# Group by name\n",
      "means = data.groupby(by='TUBE NAME')[col_name].mean()[col_order]\n",
      "stddev = data.groupby(by='TUBE NAME')[col_name].std()[col_order]"
     ],
     "language": "python",
     "metadata": {},
     "outputs": []
    },
    {
     "cell_type": "code",
     "collapsed": false,
     "input": [
      "x_range = range(0, len(means))\n",
      "plt.figure()\n",
      "\n",
      "plt.bar([x + .2 for x in x_range], means, color=color_groups)\n",
      "plt.errorbar([x + .6 for x in x_range], means, linewidth=0,\n",
      "        yerr=stddev, ecolor='black', elinewidth=.5)\n",
      "plt.xlim([0, len(means) + .2])\n",
      "plt.ylabel('Mean Fluorescence Intensity for ' + ab)\n",
      "\n",
      "# Complicated x-axis.\n",
      "plt.xticks([x + .6 for x in x_range], concentrations,\n",
      "           rotation=90)\n",
      "\n",
      "# Then, the peptide. Manually set because we have different counts per peptide...\n",
      "label_loc = [.6, 2.7, 5.7, 8.7, 12.2, 16.6]\n",
      "for i, loc in enumerate(label_loc):\n",
      "    plt.text(loc, -750, peps[i].replace(' ', '\\n'), \n",
      "             horizontalalignment='center', fontsize=14)\n",
      "\n",
      "title = 'MFI of {}+ Population for All Peptides'.format(ab)\n",
      "plt.title(title, y=1.01)\n",
      "plt.savefig('figures/{}_(1)'.format(title.replace(' ', '_')), bbox_inches='tight')"
     ],
     "language": "python",
     "metadata": {},
     "outputs": []
    },
    {
     "cell_type": "code",
     "collapsed": false,
     "input": [
      "ab = 'CD69'\n",
      "col_name = 'Lymphocytes/Single Cells/Single Cells/CD4+/{}+ | Freq. of Parent (%)'.format(ab)"
     ],
     "language": "python",
     "metadata": {},
     "outputs": []
    },
    {
     "cell_type": "code",
     "collapsed": false,
     "input": [
      "# Group by name\n",
      "means = data.groupby(by='TUBE NAME')[col_name].mean()[col_order]\n",
      "stddev = data.groupby(by='TUBE NAME')[col_name].std()[col_order]"
     ],
     "language": "python",
     "metadata": {},
     "outputs": []
    },
    {
     "cell_type": "code",
     "collapsed": false,
     "input": [
      "x_range = range(0, len(means))\n",
      "plt.figure()\n",
      "\n",
      "plt.bar([x + .2 for x in x_range], means, color=color_groups)\n",
      "plt.errorbar([x + .6 for x in x_range], means, linewidth=0,\n",
      "        yerr=stddev, ecolor='black', elinewidth=.5)\n",
      "plt.xlim([0, len(means) + .2])\n",
      "plt.ylabel('Frequency of CD4+ Cells')\n",
      "\n",
      "# Complicated x-axis.\n",
      "plt.xticks([x + .6 for x in x_range], concentrations,\n",
      "           rotation=90)\n",
      "\n",
      "# Then, the peptide. Manually set because we have different counts per peptide...\n",
      "label_loc = [.6, 2.7, 5.7, 8.7, 12.2, 16.6]\n",
      "for i, loc in enumerate(label_loc):\n",
      "    plt.text(loc, -18, peps[i].replace(' ', '\\n'), \n",
      "             horizontalalignment='center', fontsize=14)\n",
      "\n",
      "title = 'Frequency of {}+ Population for All Peptides'.format(ab)\n",
      "plt.title(title, y=1.01)\n",
      "plt.savefig('figures/{}_(1)'.format(title.replace(' ', '_')), bbox_inches='tight')"
     ],
     "language": "python",
     "metadata": {},
     "outputs": []
    },
    {
     "cell_type": "code",
     "collapsed": false,
     "input": [
      "ab = 'CD25'\n",
      "col_name = 'Lymphocytes/Single Cells/Single Cells/CD4+/{}+ | Freq. of Parent (%)'.format(ab)"
     ],
     "language": "python",
     "metadata": {},
     "outputs": []
    },
    {
     "cell_type": "code",
     "collapsed": false,
     "input": [
      "# Group by name\n",
      "means = data.groupby(by='TUBE NAME')[col_name].mean()[col_order]\n",
      "stddev = data.groupby(by='TUBE NAME')[col_name].std()[col_order]"
     ],
     "language": "python",
     "metadata": {},
     "outputs": []
    },
    {
     "cell_type": "code",
     "collapsed": false,
     "input": [
      "x_range = range(0, len(means))\n",
      "plt.figure()\n",
      "\n",
      "plt.bar([x + .2 for x in x_range], means, color=color_groups)\n",
      "plt.errorbar([x + .6 for x in x_range], means, linewidth=0,\n",
      "        yerr=stddev, ecolor='black', elinewidth=.5)\n",
      "plt.xlim([0, len(means) + .2])\n",
      "plt.ylabel('Frequency of CD4+ Cells')\n",
      "\n",
      "# Complicated x-axis.\n",
      "plt.xticks([x + .6 for x in x_range], concentrations,\n",
      "           rotation=90)\n",
      "\n",
      "# Then, the peptide. Manually set because we have different counts per peptide...\n",
      "label_loc = [.6, 2.7, 5.7, 8.7, 12.2, 16.6]\n",
      "for i, loc in enumerate(label_loc):\n",
      "    plt.text(loc, -18, peps[i].replace(' ', '\\n'), \n",
      "             horizontalalignment='center', fontsize=14)\n",
      "\n",
      "title = 'Frequency of {}+ Population for All Peptides'.format(ab)\n",
      "plt.title(title, y=1.01)\n",
      "plt.savefig('figures/{}_(1)'.format(title.replace(' ', '_')), bbox_inches='tight')"
     ],
     "language": "python",
     "metadata": {},
     "outputs": []
    },
    {
     "cell_type": "code",
     "collapsed": false,
     "input": [],
     "language": "python",
     "metadata": {},
     "outputs": []
    }
   ],
   "metadata": {}
  }
 ]
}