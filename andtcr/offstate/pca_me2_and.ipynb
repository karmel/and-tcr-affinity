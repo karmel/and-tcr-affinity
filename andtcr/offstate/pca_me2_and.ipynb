{
 "metadata": {
  "name": "",
  "signature": "sha256:b83b1551aad784a3ad24432d632fe45f7a5a0ee0ff4996e45284fe1ac3cb9755"
 },
 "nbformat": 3,
 "nbformat_minor": 0,
 "worksheets": [
  {
   "cells": [
    {
     "cell_type": "code",
     "collapsed": false,
     "input": [
      "'''\n",
      "Use PCA to evaluate the axes of variation across our five conditions.\n",
      "'''"
     ],
     "language": "python",
     "metadata": {},
     "outputs": [
      {
       "metadata": {},
       "output_type": "pyout",
       "prompt_number": 1,
       "text": [
        "'\\nUse PCA to evaluate the axes of variation across our five conditions.\\n'"
       ]
      }
     ],
     "prompt_number": 1
    },
    {
     "cell_type": "code",
     "collapsed": false,
     "input": [
      "import pandas as pd\n",
      "import seaborn as sns\n",
      "import matplotlib.pyplot as plt\n",
      "from mpl_toolkits.mplot3d import Axes3D\n",
      "from sklearn.decomposition import PCA"
     ],
     "language": "python",
     "metadata": {},
     "outputs": [],
     "prompt_number": 2
    },
    {
     "cell_type": "code",
     "collapsed": false,
     "input": [
      "sns.set_context('poster')"
     ],
     "language": "python",
     "metadata": {},
     "outputs": [],
     "prompt_number": 3
    },
    {
     "cell_type": "code",
     "collapsed": false,
     "input": [
      "data = pd.io.parsers.read_csv('data/enhancers_me2_and_union.txt', \n",
      "                                    sep='\\t', \n",
      "                                    header=0)\n",
      "\n",
      "data = data.fillna(0)"
     ],
     "language": "python",
     "metadata": {},
     "outputs": [],
     "prompt_number": 4
    },
    {
     "cell_type": "code",
     "collapsed": false,
     "input": [
      "peptides = ['no_peptide', '1um_k99a', '1um_pcc']\n",
      "prefix = 'tag_count_'\n",
      "fields = [prefix + p for p in peptides]"
     ],
     "language": "python",
     "metadata": {},
     "outputs": [],
     "prompt_number": 5
    },
    {
     "cell_type": "code",
     "collapsed": false,
     "input": [
      "# Extract fields of interest and normalize to unit norm row-wise\n",
      "subdata = data[fields].div(data[fields].max(axis=1), axis=0)\n",
      "subdata.head()"
     ],
     "language": "python",
     "metadata": {},
     "outputs": [
      {
       "html": [
        "<div style=\"max-height:1000px;max-width:1500px;overflow:auto;\">\n",
        "<table border=\"1\" class=\"dataframe\">\n",
        "  <thead>\n",
        "    <tr style=\"text-align: right;\">\n",
        "      <th></th>\n",
        "      <th>tag_count_no_peptide</th>\n",
        "      <th>tag_count_1um_k99a</th>\n",
        "      <th>tag_count_1um_pcc</th>\n",
        "    </tr>\n",
        "  </thead>\n",
        "  <tbody>\n",
        "    <tr>\n",
        "      <th>0</th>\n",
        "      <td> 1</td>\n",
        "      <td> 0.632245</td>\n",
        "      <td> 0.017868</td>\n",
        "    </tr>\n",
        "    <tr>\n",
        "      <th>1</th>\n",
        "      <td> 1</td>\n",
        "      <td> 0.477076</td>\n",
        "      <td> 0.961217</td>\n",
        "    </tr>\n",
        "    <tr>\n",
        "      <th>2</th>\n",
        "      <td> 1</td>\n",
        "      <td> 0.945713</td>\n",
        "      <td> 0.401010</td>\n",
        "    </tr>\n",
        "    <tr>\n",
        "      <th>3</th>\n",
        "      <td> 1</td>\n",
        "      <td> 0.915061</td>\n",
        "      <td> 0.987898</td>\n",
        "    </tr>\n",
        "    <tr>\n",
        "      <th>4</th>\n",
        "      <td> 1</td>\n",
        "      <td> 0.879690</td>\n",
        "      <td> 0.784481</td>\n",
        "    </tr>\n",
        "  </tbody>\n",
        "</table>\n",
        "</div>"
       ],
       "metadata": {},
       "output_type": "pyout",
       "prompt_number": 6,
       "text": [
        "   tag_count_no_peptide  tag_count_1um_k99a  tag_count_1um_pcc\n",
        "0                     1            0.632245           0.017868\n",
        "1                     1            0.477076           0.961217\n",
        "2                     1            0.945713           0.401010\n",
        "3                     1            0.915061           0.987898\n",
        "4                     1            0.879690           0.784481"
       ]
      }
     ],
     "prompt_number": 6
    },
    {
     "cell_type": "code",
     "collapsed": false,
     "input": [
      "# Filter out genes that aren't changing.\n",
      "def check_changing(row):\n",
      "    if row.max() - row.min() < row.min():\n",
      "        return False\n",
      "    return True\n",
      "filtered = subdata[subdata.apply(check_changing, axis=1)]\n",
      "print(len(filtered), len(subdata))\n",
      "filtered.head()"
     ],
     "language": "python",
     "metadata": {},
     "outputs": [
      {
       "output_type": "stream",
       "stream": "stdout",
       "text": [
        "10469 21316\n"
       ]
      },
      {
       "html": [
        "<div style=\"max-height:1000px;max-width:1500px;overflow:auto;\">\n",
        "<table border=\"1\" class=\"dataframe\">\n",
        "  <thead>\n",
        "    <tr style=\"text-align: right;\">\n",
        "      <th></th>\n",
        "      <th>tag_count_no_peptide</th>\n",
        "      <th>tag_count_1um_k99a</th>\n",
        "      <th>tag_count_1um_pcc</th>\n",
        "    </tr>\n",
        "  </thead>\n",
        "  <tbody>\n",
        "    <tr>\n",
        "      <th>0 </th>\n",
        "      <td> 1</td>\n",
        "      <td> 0.632245</td>\n",
        "      <td> 0.017868</td>\n",
        "    </tr>\n",
        "    <tr>\n",
        "      <th>1 </th>\n",
        "      <td> 1</td>\n",
        "      <td> 0.477076</td>\n",
        "      <td> 0.961217</td>\n",
        "    </tr>\n",
        "    <tr>\n",
        "      <th>2 </th>\n",
        "      <td> 1</td>\n",
        "      <td> 0.945713</td>\n",
        "      <td> 0.401010</td>\n",
        "    </tr>\n",
        "    <tr>\n",
        "      <th>9 </th>\n",
        "      <td> 1</td>\n",
        "      <td> 0.116409</td>\n",
        "      <td> 0.110490</td>\n",
        "    </tr>\n",
        "    <tr>\n",
        "      <th>10</th>\n",
        "      <td> 1</td>\n",
        "      <td> 0.514624</td>\n",
        "      <td> 0.494128</td>\n",
        "    </tr>\n",
        "  </tbody>\n",
        "</table>\n",
        "</div>"
       ],
       "metadata": {},
       "output_type": "pyout",
       "prompt_number": 7,
       "text": [
        "    tag_count_no_peptide  tag_count_1um_k99a  tag_count_1um_pcc\n",
        "0                      1            0.632245           0.017868\n",
        "1                      1            0.477076           0.961217\n",
        "2                      1            0.945713           0.401010\n",
        "9                      1            0.116409           0.110490\n",
        "10                     1            0.514624           0.494128"
       ]
      }
     ],
     "prompt_number": 7
    },
    {
     "cell_type": "code",
     "collapsed": false,
     "input": [
      "transpose = subdata.transpose()\n",
      "pca = PCA(n_components=5)\n",
      "X_r = pca.fit(transpose).transform(transpose)\n",
      "print('Explained variance ratio (first five components): '\n",
      "      + str(pca.explained_variance_ratio_))\n",
      "X_r"
     ],
     "language": "python",
     "metadata": {},
     "outputs": [
      {
       "output_type": "stream",
       "stream": "stdout",
       "text": [
        "Explained variance ratio (first five components): [  7.10822916e-01   2.89177084e-01   5.00326550e-28]\n"
       ]
      },
      {
       "output_type": "stream",
       "stream": "stderr",
       "text": [
        "/Applications/anaconda/lib/python3.4/site-packages/numpy/core/_methods.py:59: RuntimeWarning: Mean of empty slice.\n",
        "  warnings.warn(\"Mean of empty slice.\", RuntimeWarning)\n"
       ]
      },
      {
       "metadata": {},
       "output_type": "pyout",
       "prompt_number": 8,
       "text": [
        "array([[ -5.59710629e+01,   4.10244970e+00,   1.06638223e-12],\n",
        "       [  2.24153073e+01,  -3.29680872e+01,   2.53615358e-12],\n",
        "       [  3.35557556e+01,   2.88656375e+01,  -3.60250198e-12]])"
       ]
      }
     ],
     "prompt_number": 8
    },
    {
     "cell_type": "code",
     "collapsed": false,
     "input": [
      "fig = plt.figure()\n",
      "plt.scatter(X_r[:, 0].tolist(), X_r[:, 1].tolist(), s=100)\n",
      "plt.title('PCA: H3K4me2 by Condition')\n",
      "plt.xlabel('PC1 (71% of variance)')\n",
      "plt.ylabel('PC2 (19% of variance)')\n",
      "\n",
      "margin = 2\n",
      "for i, txt in enumerate(peptides):\n",
      "    plt.annotate(txt, (X_r[i,0] + margin, \n",
      "            X_r[i,1] + margin),\n",
      "            size=13)\n",
      "\n",
      "plt.savefig('figures/PCA_H3K4me2_by_Condition.png',\n",
      "            bbox_inches='tight')\n",
      "\n",
      "plt.axhline(color='black', linewidth=1)\n",
      "plt.axvline(color='black', linewidth=1)\n",
      "plt.savefig('figures/PCA_H3K4me2_by_Condition_axes.png',\n",
      "            bbox_inches='tight')\n"
     ],
     "language": "python",
     "metadata": {},
     "outputs": [
      {
       "metadata": {},
       "output_type": "display_data",
       "png": "[encoded data removed]",
       "text": [
        "<matplotlib.figure.Figure at 0x108bb1390>"
       ]
      }
     ],
     "prompt_number": 9
    },
    {
     "cell_type": "code",
     "collapsed": false,
     "input": [],
     "language": "python",
     "metadata": {},
     "outputs": []
    }
   ],
   "metadata": {}
  }
 ]
}